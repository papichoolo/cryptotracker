{
 "cells": [
  {
   "cell_type": "markdown",
   "metadata": {
    "id": "SXuCEQE1klyP"
   },
   "source": [
    "Testing stuff out from the gate"
   ]
  },
  {
   "cell_type": "code",
   "execution_count": 1,
   "metadata": {
    "colab": {
     "base_uri": "https://localhost:8080/"
    },
    "id": "5isS0CH1f7TR",
    "outputId": "c0dda52c-35f6-47ff-b64f-bca5ec86efce"
   },
   "outputs": [
    {
     "name": "stdout",
     "output_type": "stream",
     "text": [
      "{\"status\":\"error\",\"message\":\"Insufficient balance\"}"
     ]
    },
    {
     "name": "stderr",
     "output_type": "stream",
     "text": [
      "  % Total    % Received % Xferd  Average Speed   Time    Time     Time  Current\n",
      "                                 Dload  Upload   Total   Spent    Left  Speed\n",
      "\n",
      "  0     0    0     0    0     0      0      0 --:--:-- --:--:-- --:--:--     0\n",
      "  0     0    0     0    0     0      0      0 --:--:-- --:--:-- --:--:--     0\n",
      "  0     0    0     0    0     0      0      0 --:--:--  0:00:01 --:--:--     0\n",
      "100    51    0    51    0     0     26      0 --:--:--  0:00:01 --:--:--    26\n"
     ]
    },
    {
     "name": "stdout",
     "output_type": "stream",
     "text": [
      "\n"
     ]
    }
   ],
   "source": [
    "!curl -X GET \"https://api.socialdata.tools/twitter/statuses/show?id=1740192018918170738\" \\\n",
    "-H \"Accept: application/json\" \\\n",
    "-H \"Authorization: Bearer 539|UUzjs2bbjYLuc4cACbztsBRnIv7y5xHufiZYwDuoa9058562\""
   ]
  },
  {
   "cell_type": "markdown",
   "metadata": {
    "id": "EdiR3phpoacC"
   },
   "source": [
    "Creating a Function that uses the search endpoint and creates a Dataframe out of it."
   ]
  },
  {
   "cell_type": "code",
   "execution_count": 2,
   "metadata": {
    "colab": {
     "base_uri": "https://localhost:8080/"
    },
    "id": "tyfBnclNkpqi",
    "outputId": "087da253-cce5-42a6-bc1c-4def2b379403"
   },
   "outputs": [
    {
     "ename": "Exception",
     "evalue": "Error fetching tweets: 402 - {\"status\":\"error\",\"message\":\"Insufficient balance\"}",
     "output_type": "error",
     "traceback": [
      "\u001b[1;31m---------------------------------------------------------------------------\u001b[0m",
      "\u001b[1;31mException\u001b[0m                                 Traceback (most recent call last)",
      "Cell \u001b[1;32mIn[2], line 49\u001b[0m\n\u001b[0;32m     46\u001b[0m end_date \u001b[38;5;241m=\u001b[39m datetime\u001b[38;5;241m.\u001b[39mnow()\n\u001b[0;32m     48\u001b[0m \u001b[38;5;66;03m# Fetch tweets\u001b[39;00m\n\u001b[1;32m---> 49\u001b[0m raw_tweets \u001b[38;5;241m=\u001b[39m \u001b[43mfetch_tweets\u001b[49m\u001b[43m(\u001b[49m\u001b[43mkeywords\u001b[49m\u001b[43m,\u001b[49m\u001b[43m \u001b[49m\u001b[43mstart_date\u001b[49m\u001b[43m,\u001b[49m\u001b[43m \u001b[49m\u001b[43mend_date\u001b[49m\u001b[43m)\u001b[49m\n\u001b[0;32m     51\u001b[0m \u001b[38;5;66;03m# Process tweets\u001b[39;00m\n\u001b[0;32m     52\u001b[0m processed_tweets \u001b[38;5;241m=\u001b[39m process_tweets(raw_tweets)\n",
      "Cell \u001b[1;32mIn[2], line 26\u001b[0m, in \u001b[0;36mfetch_tweets\u001b[1;34m(keywords, start_date, end_date, limit)\u001b[0m\n\u001b[0;32m     24\u001b[0m     \u001b[38;5;28;01mreturn\u001b[39;00m response\u001b[38;5;241m.\u001b[39mjson()\n\u001b[0;32m     25\u001b[0m \u001b[38;5;28;01melse\u001b[39;00m:\n\u001b[1;32m---> 26\u001b[0m     \u001b[38;5;28;01mraise\u001b[39;00m \u001b[38;5;167;01mException\u001b[39;00m(\u001b[38;5;124mf\u001b[39m\u001b[38;5;124m\"\u001b[39m\u001b[38;5;124mError fetching tweets: \u001b[39m\u001b[38;5;132;01m{\u001b[39;00mresponse\u001b[38;5;241m.\u001b[39mstatus_code\u001b[38;5;132;01m}\u001b[39;00m\u001b[38;5;124m - \u001b[39m\u001b[38;5;132;01m{\u001b[39;00mresponse\u001b[38;5;241m.\u001b[39mtext\u001b[38;5;132;01m}\u001b[39;00m\u001b[38;5;124m\"\u001b[39m)\n",
      "\u001b[1;31mException\u001b[0m: Error fetching tweets: 402 - {\"status\":\"error\",\"message\":\"Insufficient balance\"}"
     ]
    }
   ],
   "source": [
    "import requests\n",
    "import pandas as pd\n",
    "from datetime import datetime, timedelta\n",
    "\n",
    "# Social Data API endpoint and your API key\n",
    "API_ENDPOINT = \"https://api.socialdata.tools/twitter/search\"\n",
    "API_KEY = \"574|9dLEGFBiWHWnFsZj04Tx5fflaBFJEgJqLq7PTedh7a138543\"\n",
    "\n",
    "def fetch_tweets(keywords, start_date, end_date, limit=1000):\n",
    "    headers = {\n",
    "        \"Authorization\": f\"Bearer {API_KEY}\",\n",
    "        \"Content-Type\": \"application/json\"\n",
    "    }\n",
    "\n",
    "    params = {\n",
    "        \"query\": \" OR \".join(keywords)+ \" AND news\",\n",
    "        \"type\": \"Top\",\n",
    "        \"limit\": limit,\n",
    "    }\n",
    "\n",
    "    response = requests.get(API_ENDPOINT, headers=headers, params=params)\n",
    "\n",
    "    if response.status_code == 200:\n",
    "        return response.json()\n",
    "    else:\n",
    "        raise Exception(f\"Error fetching tweets: {response.status_code} - {response.text}\")\n",
    "\n",
    "def process_tweets(tweets_data):\n",
    "    processed_tweets = []\n",
    "    for tweet in tweets_data['tweets']:\n",
    "        processed_tweets.append({\n",
    "            'created_at': tweet['tweet_created_at'],\n",
    "            'text': tweet['full_text'],\n",
    "            'username': tweet['user']['screen_name'],\n",
    "            'retweet_count': tweet['retweet_count'],\n",
    "            'favorite_count': tweet['favorite_count'],\n",
    "            'media_url': tweet['entities']['media'][0]['media_url_https'] if 'media' in tweet['entities'] else None\n",
    "        })\n",
    "    return processed_tweets\n",
    "\n",
    "# Main execution\n",
    "if __name__ == \"__main__\":\n",
    "    # Set up search parameters\n",
    "    keywords = [\"bitcoin\", \"ethereum\", \"cryptocurrency\", \"crypto\"]\n",
    "    start_date = datetime.now() - timedelta(days=10)  # Last 7 days\n",
    "    end_date = datetime.now()\n",
    "\n",
    "    # Fetch tweets\n",
    "    raw_tweets = fetch_tweets(keywords, start_date, end_date)\n",
    "\n",
    "    # Process tweets\n",
    "    processed_tweets = process_tweets(raw_tweets)\n",
    "\n",
    "    # Convert to DataFrame\n",
    "    df = pd.DataFrame(processed_tweets)\n",
    "\n",
    "    # Save to CSV\n",
    "    csv_filename = 'cryptocurrency_tweets.csv'\n",
    "    df.to_csv(csv_filename, index=False)\n",
    "\n",
    "    print(f\"Extracted {len(df)} tweets about cryptocurrency.\")\n",
    "    print(f\"Data saved to '{csv_filename}'\")\n",
    "\n",
    "    # Display first few rows\n",
    "    df.head()"
   ]
  },
  {
   "cell_type": "code",
   "execution_count": null,
   "metadata": {
    "cellView": "form",
    "colab": {
     "base_uri": "https://localhost:8080/",
     "height": 674
    },
    "id": "r4sW9SHcpmD2",
    "outputId": "76f1474f-af7a-4d76-d889-b245575c58d1"
   },
   "outputs": [],
   "source": [
    "from google.colab import sheets\n",
    "sheet = sheets.InteractiveSheet(df=df)"
   ]
  },
  {
   "cell_type": "markdown",
   "metadata": {
    "id": "6G_lYJoSor1V"
   },
   "source": [
    "## Key Points to notice\n",
    "\n",
    "- We cant sort by top posts cuz most of these are giveaway/promotional posts that provide us no information about the news and updates (This will be figured by putting better queries)\n",
    "- We can only search 20 posts at a time. I tried using more using this endpoint [POST https://api.socialdata.tools/twitter/search/asyncJob](https://api.socialdata.tools/twitter/search/asyncJob) but it immediately drained my account balance.\n",
    "- Most of the output is in Other languages too. We must filter out languages other than english."
   ]
  },
  {
   "cell_type": "markdown",
   "metadata": {
    "id": "hGvR4SiDuMhD"
   },
   "source": [
    "Running Cryptobert on these datasets"
   ]
  },
  {
   "cell_type": "code",
   "execution_count": null,
   "metadata": {
    "colab": {
     "base_uri": "https://localhost:8080/",
     "height": 301,
     "referenced_widgets": [
      "44b7a4343e7a42748bec6b985ebc6e95",
      "fd602b4095944b3eab11b651a6a2aa43",
      "16d283ddf3554694aa3891bfd0cc1837",
      "c31c04a3297440d781f8bcb528f0ccef",
      "d48961671d1d4fd38fe5ea5a982a3689",
      "d0acf15ad7a042e39cfa8736f6da9ae6",
      "8708934068064f639cf24b3ef98b5d2c",
      "5aa3ff07ba014e678fc392eddd4ddd57",
      "e15144c8de264b70988f12941908b729",
      "4020fd2e41a6430b99a515deed52e300",
      "4f4edf677a3b4fe19e0ff9c365b2b6d6",
      "6a5a69c122384281b8c0a5f183f50e18",
      "a9c7710a8ed549f98628bf2c284f2047",
      "3f7cef6a7f114e7fbfba639b7074e07f",
      "faa9379f2e4f4869887e50d8c9045406",
      "aaf98e345fc04df59ff643c057be6bc0",
      "a0836d0a2497441280763253711179d3",
      "bf7589646e1f45fdb79a093734c84569",
      "798a35fc45df447da35d079f3c95cf98",
      "bccf60221c4f4da2b117a17cba3a3e06",
      "a272bd79e53c49f59826004d0974530b",
      "521770f0f9c74728864d8a5b23736996",
      "75d55e31199540cabc0cde3b5d84f4cf",
      "cd9c15d6f9ce41ae9f44c59b1d6c3777",
      "7dd24b4be06941808ce68ab9b98d1f54",
      "70dd0ff9b3d24966b2bb69e55a310533",
      "3464dc68f4af40869191a67a87ee804a",
      "42fbf97aa7fd4925850616e4417bb3f9",
      "570bd0bb6eb5488e9dfeb76bd9b6441f",
      "82b5c893b51444e1b4176d15709038c3",
      "34168c3c7f704e3fa6220b11dce7e208",
      "445b97ae1a0f4eaea923f1fc9d2c5674",
      "c849f2a3173e4f69b15c8c2052ca4ad4",
      "9c204a5c96ac4e8b8750ffbcdfaf7856",
      "6811a29953cf4b19a832ccb5cff70267",
      "95f9c244ad4b466ea909e9ad02ce77ec",
      "dda1fa3c974847718fcd155c70936713",
      "f364773506eb4d3fbc8fd7b63c39797e",
      "fe00c8b8a6fc40dcb21737fad5d48188",
      "342e0815cf6c494d8c3b89482d0d9477",
      "eefd565dcdb84d1e8f3837bbb8590040",
      "558c2b055a87420ebc7cf3150e039cb3",
      "37fef1abbba24b5c893359c93c4296ec",
      "fe3d9d9ba577492e89d1a89da81b679a",
      "871b58e98ed243b0bc748e4e8b4b1cea",
      "ac4a0ead5c9947e19d94faa795fbaaeb",
      "f15456705f824e998250f065e6be52dd",
      "1b3309c11a2844fb9f29a98e35186e17",
      "c409ff0266dd4dc2a7f26804ef0f92bc",
      "3c0a1dfb7b204a33a24fc0c8b28ac561",
      "8c59be828458499ea69d14de3ece0a2e",
      "57d982506d9a40d2b38747dc899143f0",
      "fd18a087f7a341daaa5c290b47776afb",
      "eb3efe552d3f45caa42736f4b5049434",
      "22b08e991f47414abe055fc7819514e9"
     ]
    },
    "id": "V5093cbr-ZLS",
    "outputId": "b5e4a639-dddd-4989-bcdf-0d58fc6073a5"
   },
   "outputs": [],
   "source": [
    "from transformers import BertTokenizer, BertForSequenceClassification\n",
    "from transformers import pipeline\n",
    "\n",
    "tokenizer = BertTokenizer.from_pretrained(\"kk08/CryptoBERT\")\n",
    "model = BertForSequenceClassification.from_pretrained(\"kk08/CryptoBERT\")"
   ]
  },
  {
   "cell_type": "code",
   "execution_count": null,
   "metadata": {
    "colab": {
     "base_uri": "https://localhost:8080/"
    },
    "collapsed": true,
    "id": "aqxFa7Ofmzll",
    "outputId": "96691e1d-ec26-4678-eddb-295c92f3cc69"
   },
   "outputs": [],
   "source": [
    "\n",
    "\n",
    "classifier = pipeline(\"sentiment-analysis\", model=model, tokenizer=tokenizer)\n",
    "for text in df['text']:\n",
    "  result = classifier(text)\n",
    "  print(result)\n",
    "\n"
   ]
  },
  {
   "cell_type": "markdown",
   "metadata": {
    "id": "u--t4Dg2HBL5"
   },
   "source": [
    "Now Getting News using News API"
   ]
  },
  {
   "cell_type": "code",
   "execution_count": null,
   "metadata": {
    "colab": {
     "base_uri": "https://localhost:8080/"
    },
    "id": "Db-V5dQRHqId",
    "outputId": "3fcb4d94-e825-46e6-b27f-649b835d6be0"
   },
   "outputs": [],
   "source": [
    "!pip install newsapi-python"
   ]
  },
  {
   "cell_type": "code",
   "execution_count": null,
   "metadata": {
    "colab": {
     "base_uri": "https://localhost:8080/"
    },
    "id": "ypt32d33HtoT",
    "outputId": "6c44203e-7e76-41bd-98f1-ac58f2eb0e2c"
   },
   "outputs": [],
   "source": [
    "from newsapi import NewsApiClient\n",
    "\n",
    "# Init\n",
    "newsapi = NewsApiClient(api_key='4670c278aa53490b99c29e290984acd4')\n",
    "# /v2/everything\n",
    "all_articles = newsapi.get_everything(q='bitcoin OR ethereum',\n",
    "                                      sources='bbc-news,the-verge',\n",
    "                                      domains='bbc.co.uk,techcrunch.com',\n",
    "                                      from_param= datetime.now()-timedelta(days=10),\n",
    "                                      to=datetime.now(),\n",
    "                                      language='en',\n",
    "                                      sort_by='relevancy',\n",
    "                                      page=2)\n",
    "\n",
    "\n",
    "all_articles"
   ]
  },
  {
   "cell_type": "code",
   "execution_count": 9,
   "metadata": {
    "id": "UtM8bcLpJrCk"
   },
   "outputs": [],
   "source": [
    "bruh= requests.get(f\"https://newsapi.org/v2/everything?q=cryptocurrency OR bitcoin OR ethereum OR blockchain&from={datetime.now()-timedelta(days=10)}&to={datetime.now}&sortBy=popularity&language=en&apiKey=4670c278aa53490b99c29e290984acd4\")"
   ]
  },
  {
   "cell_type": "code",
   "execution_count": null,
   "metadata": {
    "colab": {
     "base_uri": "https://localhost:8080/"
    },
    "collapsed": true,
    "id": "R-amFVIbKxvb",
    "outputId": "0172a2f8-3457-4ea2-8c3c-324936a7cd8e"
   },
   "outputs": [],
   "source": [
    "bruh.json()"
   ]
  },
  {
   "cell_type": "code",
   "execution_count": null,
   "metadata": {
    "colab": {
     "base_uri": "https://localhost:8080/",
     "height": 1000
    },
    "id": "lES_jPB7KzRZ",
    "outputId": "c4e8c2b3-84c8-4d90-86e2-045262471166"
   },
   "outputs": [],
   "source": [
    "df_news = pd.json_normalize(bruh.json()['articles'])\n",
    "df_news\n"
   ]
  },
  {
   "cell_type": "code",
   "execution_count": null,
   "metadata": {
    "cellView": "form",
    "colab": {
     "base_uri": "https://localhost:8080/",
     "height": 674
    },
    "id": "dXbsBJjXSssm",
    "outputId": "52b1d1a6-b845-47c9-c0e1-aa3884e49399"
   },
   "outputs": [],
   "source": [
    "from google.colab import sheets\n",
    "sheet = sheets.InteractiveSheet(df=df_news)"
   ]
  },
  {
   "cell_type": "markdown",
   "metadata": {
    "id": "xZJtAUvySwkY"
   },
   "source": [
    "### Keyword and Langchain"
   ]
  },
  {
   "cell_type": "code",
   "execution_count": null,
   "metadata": {
    "colab": {
     "base_uri": "https://localhost:8080/"
    },
    "collapsed": true,
    "id": "12jIdp6vTABs",
    "outputId": "021da84a-7b2c-4aa1-a016-e87674edb948"
   },
   "outputs": [],
   "source": [
    "!pip install groq langchain-groq langchain langchain_core"
   ]
  },
  {
   "cell_type": "code",
   "execution_count": 14,
   "metadata": {
    "id": "31CLaimwTZVD"
   },
   "outputs": [],
   "source": [
    "import os\n",
    "from google.colab import userdata\n"
   ]
  },
  {
   "cell_type": "markdown",
   "metadata": {
    "id": "w8MrItbyW_P_"
   },
   "source": [
    "This one is using the groq libary directly"
   ]
  },
  {
   "cell_type": "code",
   "execution_count": null,
   "metadata": {
    "colab": {
     "base_uri": "https://localhost:8080/"
    },
    "id": "9bj6A6xrS0PT",
    "outputId": "8957d816-ec91-41a3-c203-9a12d6c97e5c"
   },
   "outputs": [],
   "source": [
    "from groq import Groq\n",
    "from langchain.prompts import PromptTemplate\n",
    "from langchain.chains import LLMChain\n",
    "\n",
    "from langchain_core.output_parsers import StrOutputParser\n",
    "\n",
    "parser = StrOutputParser()\n",
    "client = Groq(api_key=userdata.get('GROQ_API_KEY'))\n",
    "completion = client.chat.completions.create(\n",
    "    model=\"llama3-groq-70b-8192-tool-use-preview\",\n",
    "    messages=[\n",
    "        {\n",
    "            \"role\": \"system\",\n",
    "            \"content\": \"JSON You are a bot whose job is to take Crypto News put it in the category of the top 50 cryptocurrencies of the world, the list is:\\nBitcoin\\nEthereum\\nTether USD\\nBNB\\nSolana\\nUSDC\\nXRP\\nLido Staked Ether\\nToncoin\\nDogecoin\\nCardano\\nTRON\\nWrapped liquid staked Ether 2.0\\nWrapped BTC\\nAvalanche\\nShiba Inu\\nWrapped Ether\\nPolkadot\\nBitcoin Cash\\nChainlink\\nDai\\nUniswap\\nLitecoin\\nPolygon\\nBinance-Peg BSC-USD\\nKaspa\\nWrapped eETH\\nInternet Computer (DFINITY)\\nPEPE\\nUSDe\\nEthereum Classic\\nMonero\\nPancakeSwap\\nAptos\\nNEAR Protocol\\nImmutable X\\nFetch.AI\\nOKB\\nStacks\\nFilecoin\\nBittensor\\nStellar\\nFirst Digital USD\\nMantle\\nHedera\\nVeChain\\nWhiteBIT Coin\\nRender Token\\nEnergySwap\\nMaker\\n\\nUnless a new Cryptocurrency is mentioned (with its code) always put the articles in these list. If the news is general and not applicable to any cryptocurrency You can also mark the Article as general.\\nExample:\\n\\nDogecoin (DOGE) currently holds a market capitalization of $19  billion. Despite experiencing a 14% price surge over the past two weeks, the cryptocurrency remains significantly below its all-time hi… [+4205 chars]\\n\\nCryptocurrencies: Dogecoin\\n\\nExperts predict that Toshi, one of the most popular Base meme coins, could go up by 10x this year because of the recent surge in meme coins.\\nThis article explores the recent developments, features, … [+5097 chars]\\n\\nCryptocurrencies: TOSHI\\n\\nExperts predict a big surge for Pepe (PEPE), leading many investors to believe now is the best time to buy in.\\nThe cryptocurrency market is on the rise. Market volume has jumped by 62%, and the Fear… [+5122 chars]\\n\\nCryptocurrencies: PEPE\\n\\nWith $45.5 million in corporate contributions, American cryptocurrency exchange Coinbase is the largest donor to Fairshake: a newly-minted super PAC focused solely on installing political candidates … [+10647 chars]\\n\\nCryptocurrencies: General\\n\\n\"\n",
    "        },\n",
    "        {\n",
    "            \"role\": \"user\",\n",
    "            \"content\": \"With Bitcoin (BTC) surging and the market exhibiting greed according to the Fear and Greed Index, it’s an opportune time to consider diversifying your portfolio with altcoin investments.\\nWhile meme … [+6891 chars]\"\n",
    "        }\n",
    "    ],\n",
    "    temperature=0.5,\n",
    "    max_tokens=1024,\n",
    "    top_p=0.65,\n",
    "    stream=False,\n",
    "    response_format={\"type\": \"json_object\"},\n",
    "    stop=None,\n",
    ")\n",
    "\n",
    "print(completion.choices[0].message.content)\n"
   ]
  },
  {
   "cell_type": "code",
   "execution_count": 16,
   "metadata": {
    "id": "pTPwTeCy7v9X"
   },
   "outputs": [],
   "source": [
    "top_cryptos = [\n",
    "    \"Bitcoin\", \"Ethereum\", \"Tether USD\", \"BNB\", \"Solana\", \"USDC\", \"XRP\", \"Lido Staked Ether\",\n",
    "    \"Toncoin\", \"Dogecoin\", \"Cardano\", \"TRON\", \"Wrapped liquid staked Ether 2.0\", \"Wrapped BTC\",\n",
    "    \"Avalanche\", \"Shiba Inu\", \"Wrapped Ether\", \"Polkadot\", \"Bitcoin Cash\", \"Chainlink\", \"Dai\",\n",
    "    \"Uniswap\", \"Litecoin\", \"Polygon\", \"Binance-Peg BSC-USD\", \"Kaspa\", \"Wrapped eETH\",\n",
    "    \"Internet Computer (DFINITY)\", \"PEPE\", \"USDe\", \"Ethereum Classic\", \"Monero\", \"PancakeSwap\",\n",
    "    \"Aptos\", \"NEAR Protocol\", \"Immutable X\", \"Fetch.AI\", \"OKB\", \"Stacks\", \"Filecoin\", \"Bittensor\",\n",
    "    \"Stellar\", \"First Digital USD\", \"Mantle\", \"Hedera\", \"VeChain\", \"WhiteBIT Coin\", \"Render Token\",\n",
    "    \"EnergySwap\", \"Maker\",'BRETT', 'The Doge NFT', 'DEGEN', 'TOSHI', 'doginme', 'Normie',\n",
    "    'OmniCat', 'Marvin', 'RealGOAT', 'Mister Miggles', 'Basenji',\n",
    "    'UPSIDE DOWN MEME', 'SPX6900', '$MFER', 'ChompCoin', 'SKOP Token',\n",
    "    'Marso.Tech', 'Keyboard Cat', 'higher', 'donotfomoew', 'Pepe',\n",
    "    'Base God', 'Crash', 'BORED', 'Roost Coin', 'BUILD', 'FomoBullClub',\n",
    "    'Noggles', 'All Street Bets', 'WASSIE', 'DINO', 'Moby', 'Mamba',\n",
    "    'Shoobadookie', 'Based Street Bets', 'Ski Mask Dog', 'AEROBUD',\n",
    "    'Fungi', 'FOMO_BASE', 'ROCKY', 'Rug World Assets', 'BlockChainPeople',\n",
    "    'Apedinbase', 'GameStop on Base', 'Based Shiba Inu', 'Misser',\n",
    "    'Father Of Meme: Origin', 'Katt Daddy', 'Heroes of memes', 'DERP'\n",
    "]\n",
    "\n",
    "prompt = PromptTemplate(\n",
    "    input_variables=[\"text\"],\n",
    "    template=\"\"\"\n",
    "        Given the following text:\n",
    "        {text}\n",
    "\n",
    "        Identify any cryptocurrencies mentioned in the text and categorize them as 'crypto'. If no cryptocurrencies are found, categorize the text as 'general'.\n",
    "\n",
    "        The response should be a list of dictionaries with the following format:\n",
    "        [\n",
    "            {{\n",
    "                \"name\": \"Bitcoin\",\n",
    "                \"category\": \"crypto\"\n",
    "            }},\n",
    "            {{\n",
    "                \"name\": \"Ethereum\",\n",
    "                \"category\": \"crypto\"\n",
    "            }},\n",
    "            {{\n",
    "                \"name\": \"This text is not about any specific cryptocurrencies\",\n",
    "                \"category\": \"general\"\n",
    "            }}\n",
    "        ]\n",
    "    \"\"\"\n",
    ")"
   ]
  },
  {
   "cell_type": "code",
   "execution_count": 17,
   "metadata": {
    "id": "Xk7wPR2fUFb3"
   },
   "outputs": [],
   "source": [
    "from langchain_groq import ChatGroq\n"
   ]
  },
  {
   "cell_type": "code",
   "execution_count": 18,
   "metadata": {
    "id": "9tp7J_G98kDW"
   },
   "outputs": [],
   "source": [
    "from typing import List, Tuple\n",
    "def crypto_categorizer(text: str) -> List[dict]:\n",
    "    llm = ChatGroq(groq_api_key = userdata.get('GROQ_API_KEY'),model = \"llama3-groq-70b-8192-tool-use-preview\")\n",
    "    #chain = LLMChain(prompt=prompt, llm=llm)\n",
    "    chain = prompt | llm | parser\n",
    "    result = chain.invoke(text)\n",
    "    return eval(result)"
   ]
  },
  {
   "cell_type": "markdown",
   "metadata": {
    "id": "eECROanhXmUO"
   },
   "source": [
    "### Using langchain to make our thing"
   ]
  },
  {
   "cell_type": "markdown",
   "metadata": {
    "id": "Ost9yXSZduIP"
   },
   "source": [
    "Prompt Template"
   ]
  },
  {
   "cell_type": "code",
   "execution_count": 42,
   "metadata": {
    "id": "osndAmDedv2y"
   },
   "outputs": [],
   "source": [
    "def get_sentiment(news_articles):\n",
    "  \"\"\"\n",
    "  Given the news article, returns the Sentiment Analysis Score on the Text \"\"\"\n",
    "  classifier = pipeline(\"sentiment-analysis\", model=model, tokenizer=tokenizer)\n",
    "  classy=classifier(news_articles)\n",
    "  if classy[0]['label']==\"LABEL_1\":\n",
    "    sentiment=\"Positive\"\n",
    "  else:\n",
    "    sentiment=\"Negative\"\n",
    "  prompt = PromptTemplate(\n",
    "    input_variables=[\"news_articles\",\"sentiment\"],\n",
    "    template=\"\"\"\n",
    "\n",
    "        You are an expert in Cryptocurrency and have tons of experience in the analysis and speculations in the crypto market. You are given the follwing news article:\n",
    "        {news_articles}\n",
    "\n",
    "        We are getting the following sentiment from this article:\n",
    "        {sentiment}\n",
    "\n",
    "        In your expert knowledge in this field, explain why there could be this given sentiment:\n",
    "    \"\"\"\n",
    ")\n",
    "  llm = ChatGroq(groq_api_key = userdata.get('GROQ_API_KEY'),model = \"llama3-groq-70b-8192-tool-use-preview\")\n",
    "  chain = prompt | llm | parser\n",
    "  result = chain.invoke({\"news_articles\":news_articles,\"sentiment\":sentiment})\n",
    "\n",
    "\n",
    "  return f\"{sentiment} {classy[0]['score']} \\n Here is why: \\n {result}\"\n"
   ]
  },
  {
   "cell_type": "code",
   "execution_count": null,
   "metadata": {
    "colab": {
     "base_uri": "https://localhost:8080/"
    },
    "id": "Un-QEdHJqMC1",
    "outputId": "644b4b92-1734-4e41-ede6-95a62b1d6be9"
   },
   "outputs": [],
   "source": [
    "text = \"JUST IN: 🇷🇺 President Putin signs law legalizing cryptocurrency mining in Russia. https://t.co/GqpcmFTqDR\"\n",
    "categories = crypto_categorizer(text)\n",
    "for category in categories:\n",
    "    print(f\"{category['name']} - {category['category']}\")"
   ]
  },
  {
   "cell_type": "markdown",
   "metadata": {
    "id": "tkB-oJl7wSDQ"
   },
   "source": [
    "Explaining the Sentiment using Groq."
   ]
  },
  {
   "cell_type": "code",
   "execution_count": null,
   "metadata": {
    "colab": {
     "base_uri": "https://localhost:8080/",
     "height": 192
    },
    "id": "O9uxHlOeqQVa",
    "outputId": "d1bbb21a-c1fe-463d-be70-1bc0db38b10c"
   },
   "outputs": [],
   "source": [
    "query = \"\"\"\n",
    "🚨BREAKING: MAJOR BLACK SWAN EVENT IS HAPPENING!!\n",
    "\n",
    "XRP and CTF Token suddenly are priced at $198.53 for minutes on CMC.\n",
    "\n",
    "Trading has been Halted on Multiple Crypto exchanges.\n",
    "\n",
    "CryptoTradingFund Token (https://t.co/Vw93uDoegt) on the XRP Ledger has also begun Skyrocketing, Has the BULLRUN STARTED?!\"\"\"\n",
    "\n",
    "get_sentiment(query)"
   ]
  },
  {
   "cell_type": "markdown",
   "metadata": {},
   "source": [
    "## Doing Agentic functions using langgraph"
   ]
  },
  {
   "cell_type": "code",
   "execution_count": null,
   "metadata": {},
   "outputs": [],
   "source": [
    "!pip install langgraph langchain-community"
   ]
  },
  {
   "cell_type": "code",
   "execution_count": 3,
   "metadata": {},
   "outputs": [
    {
     "data": {
      "text/plain": [
       "2764"
      ]
     },
     "execution_count": 3,
     "metadata": {},
     "output_type": "execute_result"
    }
   ],
   "source": [
    "from langchain_community.document_loaders.directory import DirectoryLoader\n",
    "from langchain_community.document_loaders.csv_loader import CSVLoader\n",
    "loader = DirectoryLoader(path=\"crypto_data/\", loader_cls=CSVLoader)\n",
    "data = loader.load()\n",
    "\n",
    "len(data)\n"
   ]
  },
  {
   "cell_type": "code",
   "execution_count": 4,
   "metadata": {},
   "outputs": [
    {
     "data": {
      "text/plain": [
       "Document(metadata={'source': 'crypto_data\\\\AAVE_ohlcv.csv', 'row': 0}, page_content='timestamp: 2024-08-04\\nopen: 105.52\\nhigh: 112.0\\nlow: 96.891\\nclose: 97.159\\nvolume: 39024.56411935')"
      ]
     },
     "execution_count": 4,
     "metadata": {},
     "output_type": "execute_result"
    }
   ],
   "source": [
    "data[0]"
   ]
  },
  {
   "cell_type": "code",
   "execution_count": 5,
   "metadata": {},
   "outputs": [
    {
     "data": {
      "text/plain": [
       "Document(metadata={'source': 'crypto_data\\\\XRP_ohlcv.csv', 'row': 59}, page_content='timestamp: 2024-10-02\\nopen: 0.5968\\nhigh: 0.607\\nlow: 0.57625\\nclose: 0.58371\\nvolume: 15789673.8718')"
      ]
     },
     "execution_count": 5,
     "metadata": {},
     "output_type": "execute_result"
    }
   ],
   "source": [
    "from langchain_text_splitters import RecursiveCharacterTextSplitter\n",
    "text_splitter = RecursiveCharacterTextSplitter(\n",
    "    # Set a really small chunk size, just to show.\n",
    "    chunk_size=100,\n",
    "    chunk_overlap=20,\n",
    "    length_function=len,\n",
    "    is_separator_regex=False,\n",
    ")\n",
    "docs = text_splitter.split_documents(data)\n",
    "\n",
    "\n",
    "docs[-1]"
   ]
  },
  {
   "cell_type": "code",
   "execution_count": 6,
   "metadata": {},
   "outputs": [
    {
     "ename": "",
     "evalue": "",
     "output_type": "error",
     "traceback": [
      "\u001b[1;31mThe Kernel crashed while executing code in the current cell or a previous cell. \n",
      "\u001b[1;31mPlease review the code in the cell(s) to identify a possible cause of the failure. \n",
      "\u001b[1;31mClick <a href='https://aka.ms/vscodeJupyterKernelCrash'>here</a> for more info. \n",
      "\u001b[1;31mView Jupyter <a href='command:jupyter.viewOutput'>log</a> for further details."
     ]
    }
   ],
   "source": [
    "\n",
    "from langchain_community.vectorstores import Chroma\n",
    "\n",
    "\n",
    "vectorstore = Chroma.from_documents(\n",
    "    documents=docs,\n",
    "    collection_name=\"rag-chroma\",\n",
    "    embedding=OpenAIEmbeddings(),\n",
    ")\n",
    "retriever = vectorstore.as_retriever()"
   ]
  },
  {
   "cell_type": "code",
   "execution_count": 5,
   "metadata": {},
   "outputs": [
    {
     "ename": "NameError",
     "evalue": "name 'retriever' is not defined",
     "output_type": "error",
     "traceback": [
      "\u001b[1;31m---------------------------------------------------------------------------\u001b[0m",
      "\u001b[1;31mNameError\u001b[0m                                 Traceback (most recent call last)",
      "Cell \u001b[1;32mIn[5], line 1\u001b[0m\n\u001b[1;32m----> 1\u001b[0m \u001b[43mretriever\u001b[49m\u001b[38;5;241m.\u001b[39minvoke(\u001b[38;5;124m\"\u001b[39m\u001b[38;5;124mWhat is the Closing price of BTC in 2nd October?\u001b[39m\u001b[38;5;124m\"\u001b[39m)\n",
      "\u001b[1;31mNameError\u001b[0m: name 'retriever' is not defined"
     ]
    }
   ],
   "source": [
    "retriever.invoke(\"What is the Closing price of BTC in 2nd October?\")"
   ]
  },
  {
   "cell_type": "code",
   "execution_count": 57,
   "metadata": {},
   "outputs": [
    {
     "name": "stdout",
     "output_type": "stream",
     "text": [
      "Requirement already satisfied: duckduckgo-search in c:\\users\\utfu\\.virtualenvs\\cryptotracker-hj7ikd92\\lib\\site-packages (6.2.13)\n",
      "Requirement already satisfied: click>=8.1.7 in c:\\users\\utfu\\.virtualenvs\\cryptotracker-hj7ikd92\\lib\\site-packages (from duckduckgo-search) (8.1.7)\n",
      "Requirement already satisfied: primp>=0.6.3 in c:\\users\\utfu\\.virtualenvs\\cryptotracker-hj7ikd92\\lib\\site-packages (from duckduckgo-search) (0.6.3)\n",
      "Requirement already satisfied: colorama in c:\\users\\utfu\\.virtualenvs\\cryptotracker-hj7ikd92\\lib\\site-packages (from click>=8.1.7->duckduckgo-search) (0.4.6)\n"
     ]
    }
   ],
   "source": [
    "!pip install duckduckgo-search"
   ]
  },
  {
   "cell_type": "code",
   "execution_count": 13,
   "metadata": {},
   "outputs": [],
   "source": [
    "# Creating Custom Retriever Function\n",
    "from langchain_core.tools import tool\n",
    "import ccxt\n",
    "import pandas as pd\n",
    "from datetime import date\n",
    "from langchain_community.utilities import DuckDuckGoSearchAPIWrapper\n",
    "from langchain_community.tools import DuckDuckGoSearchResults\n",
    "from langchain_openai import OpenAIEmbeddings, ChatOpenAI\n",
    "exchange = ccxt.kucoin()\n",
    "date=date.today()\n",
    "@tool\n",
    "def ohlcv_tool(query:str):\n",
    "    \"\"\"Converts the query string into its Cryptocurrency symbol to search the OHLCV data and returns its associated market data\"\"\"\n",
    "    symbol = f\"{query}/USDT\"\n",
    "    ohlcv = exchange.fetch_ohlcv(symbol, timeframe='1d', limit=30)\n",
    "    return ohlcv\n",
    "\n",
    "@tool\n",
    "def ddgs_tool(query:str):\n",
    "    \"\"\"Returns the search results from DuckDuckGo search engine\"\"\"\n",
    "    \n",
    "    #wrapper = DuckDuckGoSearchAPIWrapper(region=\"de-de\", time=\"d\", max_results=2)\n",
    "\n",
    "    search = DuckDuckGoSearchResults(backend=\"news\")\n",
    "\n",
    "    return search.invoke(query)\n",
    "\n",
    "    \n"
   ]
  },
  {
   "cell_type": "code",
   "execution_count": 56,
   "metadata": {},
   "outputs": [
    {
     "name": "stdout",
     "output_type": "stream",
     "text": [
      "Note: you may need to restart the kernel to use updated packages.\n"
     ]
    }
   ],
   "source": []
  },
  {
   "cell_type": "code",
   "execution_count": 14,
   "metadata": {},
   "outputs": [],
   "source": [
    "from langchain.tools.retriever import create_retriever_tool\n",
    "from langchain_core.tools import tool\n",
    "from langgraph.checkpoint.memory import MemorySaver\n",
    "from langgraph.graph import END, START, StateGraph, MessagesState\n",
    "from langgraph.prebuilt import ToolNode\n",
    "\"\"\"retriever_tool = create_retriever_tool(\n",
    "    retriever,\n",
    "    \"retriever_ohlcv_data\",\n",
    "    \"Search and retrieve the OHLCV Market Data of the top 50 cryptocurrencies.\",\n",
    ")\"\"\"\n",
    "\n",
    "tools = [ddgs_tool, ohlcv_tool]"
   ]
  },
  {
   "cell_type": "code",
   "execution_count": 15,
   "metadata": {},
   "outputs": [],
   "source": [
    "from typing import Annotated, Literal, TypedDict\n",
    "from IPython.display import Image, display\n",
    "tool_node = ToolNode(tools)\n",
    "\n",
    "model = ChatOpenAI(model=\"gpt-4o-mini\").bind_tools(tools)\n",
    "\n",
    "# Define the function that determines whether to continue or not\n",
    "def should_continue(state: MessagesState) -> Literal[\"tools\", END]:\n",
    "    messages = state['messages']\n",
    "    last_message = messages[-1]\n",
    "    # If the LLM makes a tool call, then we route to the \"tools\" node\n",
    "    if last_message.tool_calls:\n",
    "        return \"tools\"\n",
    "    # Otherwise, we stop (reply to the user)\n",
    "    return END\n",
    "\n",
    "# Define the function that calls the model\n",
    "def call_model(state: MessagesState):\n",
    "    messages = state['messages']\n",
    "    response = model.invoke(messages)\n",
    "    # We return a list, because this will get added to the existing list\n",
    "    return {\"messages\": [response]}\n",
    "\n",
    "# Define a new graph\n",
    "workflow = StateGraph(MessagesState)\n",
    "\n",
    "# Define the two nodes we will cycle between\n",
    "workflow.add_node(\"agent\", call_model)\n",
    "workflow.add_node(\"tools\", tool_node)\n",
    "\n",
    "# Set the entrypoint as `agent`\n",
    "# This means that this node is the first one called\n",
    "workflow.add_edge(START, \"agent\")\n",
    "\n",
    "# We now add a conditional edge\n",
    "workflow.add_conditional_edges(\n",
    "    # First, we define the start node. We use `agent`.\n",
    "    # This means these are the edges taken after the `agent` node is called.\n",
    "    \"agent\",\n",
    "    # Next, we pass in the function that will determine which node is called next.\n",
    "    should_continue,\n",
    ")\n",
    "\n",
    "# We now add a normal edge from `tools` to `agent`.\n",
    "# This means that after `tools` is called, `agent` node is called next.\n",
    "workflow.add_edge(\"tools\", 'agent')\n",
    "\n",
    "# Initialize memory to persist state between graph runs\n",
    "checkpointer = MemorySaver()\n",
    "\n",
    "# Finally, we compile it!\n",
    "# This compiles it into a LangChain Runnable,\n",
    "# meaning you can use it as you would any other runnable.\n",
    "# Note that we're (optionally) passing the memory when compiling the graph\n",
    "app = workflow.compile(checkpointer=checkpointer)"
   ]
  },
  {
   "cell_type": "code",
   "execution_count": 16,
   "metadata": {},
   "outputs": [
    {
     "data": {
      "image/jpeg": "[encoded data removed]",
      "text/plain": [
       "<IPython.core.display.Image object>"
      ]
     },
     "metadata": {},
     "output_type": "display_data"
    }
   ],
   "source": [
    "from langchain_core.runnables.graph import CurveStyle, MermaidDrawMethod, NodeStyles\n",
    "display(\n",
    "    Image(\n",
    "        app.get_graph().draw_mermaid_png(\n",
    "            draw_method=MermaidDrawMethod.API,\n",
    "        )\n",
    "    )\n",
    ")\n"
   ]
  },
  {
   "cell_type": "code",
   "execution_count": 17,
   "metadata": {},
   "outputs": [
    {
     "data": {
      "text/plain": [
       "[{'name': 'ohlcv_tool',\n",
       "  'args': {'query': 'XRP'},\n",
       "  'id': 'call_DHeMNoUR0dmRzJavJEhBfkL2',\n",
       "  'type': 'tool_call'}]"
      ]
     },
     "execution_count": 17,
     "metadata": {},
     "output_type": "execute_result"
    }
   ],
   "source": [
    "model.invoke(\"what is XRP's looking?\").tool_calls"
   ]
  },
  {
   "cell_type": "code",
   "execution_count": 18,
   "metadata": {},
   "outputs": [
    {
     "data": {
      "text/plain": [
       "{'messages': [HumanMessage(content=\"How is bitcoin's latest market data looking on 2nd October and How are the news supporting the data?\", additional_kwargs={}, response_metadata={}, id='8c8304b7-d155-400b-aec4-c71279c07c3b'),\n",
       "  AIMessage(content='', additional_kwargs={'tool_calls': [{'id': 'call_M3TL1agvMFlcGN7gjtzHwnJ2', 'function': {'arguments': '{\"query\": \"bitcoin\"}', 'name': 'ohlcv_tool'}, 'type': 'function'}, {'id': 'call_owXolnN9Cow6xsDSxEK5QMO1', 'function': {'arguments': '{\"query\": \"bitcoin news October 2 2023\"}', 'name': 'ddgs_tool'}, 'type': 'function'}], 'refusal': None}, response_metadata={'token_usage': {'completion_tokens': 54, 'prompt_tokens': 109, 'total_tokens': 163, 'completion_tokens_details': {'audio_tokens': None, 'reasoning_tokens': 0}, 'prompt_tokens_details': {'audio_tokens': None, 'cached_tokens': 0}}, 'model_name': 'gpt-4o-mini-2024-07-18', 'system_fingerprint': 'fp_e2bde53e6e', 'finish_reason': 'tool_calls', 'logprobs': None}, id='run-cd5539b4-70cf-4afa-ade7-9b95f4efc2c9-0', tool_calls=[{'name': 'ohlcv_tool', 'args': {'query': 'bitcoin'}, 'id': 'call_M3TL1agvMFlcGN7gjtzHwnJ2', 'type': 'tool_call'}, {'name': 'ddgs_tool', 'args': {'query': 'bitcoin news October 2 2023'}, 'id': 'call_owXolnN9Cow6xsDSxEK5QMO1', 'type': 'tool_call'}], usage_metadata={'input_tokens': 109, 'output_tokens': 54, 'total_tokens': 163, 'input_token_details': {'cache_read': 0}, 'output_token_details': {'reasoning': 0}}),\n",
       "  ToolMessage(content=\"Error: BadSymbol('kucoin does not have market symbol bitcoin/USDT')\\n Please fix your mistakes.\", name='ohlcv_tool', id='316bdb09-6854-4c21-8c8d-36e46e5463ee', tool_call_id='call_M3TL1agvMFlcGN7gjtzHwnJ2'),\n",
       "  ToolMessage(content=\"Error: RatelimitException('https://duckduckgo.com/ 202 Ratelimit')\\n Please fix your mistakes.\", name='ddgs_tool', id='8f39c307-ebca-434f-9033-7eff61725abd', tool_call_id='call_owXolnN9Cow6xsDSxEK5QMO1'),\n",
       "  AIMessage(content='', additional_kwargs={'tool_calls': [{'id': 'call_rc0z4RaQOD6BOKNDQAarb8il', 'function': {'arguments': '{\"query\": \"BTC\"}', 'name': 'ohlcv_tool'}, 'type': 'function'}, {'id': 'call_N4tTAuPTbTn29NVo0wsiAxrv', 'function': {'arguments': '{\"query\": \"bitcoin news October 2 2023\"}', 'name': 'ddgs_tool'}, 'type': 'function'}], 'refusal': None}, response_metadata={'token_usage': {'completion_tokens': 54, 'prompt_tokens': 227, 'total_tokens': 281, 'completion_tokens_details': {'audio_tokens': None, 'reasoning_tokens': 0}, 'prompt_tokens_details': {'audio_tokens': None, 'cached_tokens': 0}}, 'model_name': 'gpt-4o-mini-2024-07-18', 'system_fingerprint': 'fp_e2bde53e6e', 'finish_reason': 'tool_calls', 'logprobs': None}, id='run-a0aabe6c-8d96-43ac-af18-a94557455e08-0', tool_calls=[{'name': 'ohlcv_tool', 'args': {'query': 'BTC'}, 'id': 'call_rc0z4RaQOD6BOKNDQAarb8il', 'type': 'tool_call'}, {'name': 'ddgs_tool', 'args': {'query': 'bitcoin news October 2 2023'}, 'id': 'call_N4tTAuPTbTn29NVo0wsiAxrv', 'type': 'tool_call'}], usage_metadata={'input_tokens': 227, 'output_tokens': 54, 'total_tokens': 281, 'input_token_details': {'cache_read': 0}, 'output_token_details': {'reasoning': 0}}),\n",
       "  ToolMessage(content='[[1726617600000, 60307.8, 61777.0, 59187.4, 61753.5, 3378.91287941], [1726704000000, 61754.9, 63850.5, 61566.5, 62950.4, 3360.70442878], [1726790400000, 62950.5, 64130.6, 62348.4, 63205.5, 2273.5804573574055], [1726876800000, 63205.6, 63550.0, 62757.7, 63343.5, 662.70280371], [1726963200000, 63343.6, 64000.0, 62362.1, 63575.9, 1300.50601641], [1727049600000, 63576.0, 64753.9, 62566.7, 63331.4, 2240.94765705], [1727136000000, 63333.0, 64691.5, 62711.5, 64269.7, 2218.64824819], [1727222400000, 64269.7, 64817.4, 62948.9, 63154.4, 1902.68635504], [1727308800000, 63154.5, 65819.9, 62666.5, 65165.5, 2641.93386375], [1727395200000, 65165.5, 66575.6, 64814.9, 65770.8, 1878.99480986], [1727481600000, 65771.9, 66257.6, 65422.1, 65841.0, 715.66999092], [1727568000000, 65842.5, 66074.7, 65431.9, 65598.0, 652.78116953], [1727654400000, 65599.5, 65608.5, 62850.0, 63330.0, 1977.65676078], [1727740800000, 63328.6, 64118.7, 60158.9, 60816.0, 3174.90589645], [1727827200000, 60814.6, 62388.5, 59989.0, 60651.4, 2459.12490127], [1727913600000, 60651.0, 61475.5, 59869.0, 60750.0, 2567.1761608990028], [1728000000000, 60750.0, 62477.0, 60468.1, 62086.5, 1940.33678745], [1728086400000, 62086.6, 62367.9, 61689.0, 62064.1, 549.95199894], [1728172800000, 62064.1, 62978.7, 61818.0, 62819.4, 759.6656176], [1728259200000, 62819.4, 64460.3, 62136.1, 62223.2, 2115.86826628], [1728345600000, 62223.1, 63197.5, 61870.2, 62163.4, 1828.85538234], [1728432000000, 62163.4, 62545.3, 60306.1, 60638.5, 1735.494132872293], [1728518400000, 60637.6, 61318.1, 58932.1, 60319.5, 2254.63996348], [1728604800000, 60319.5, 63418.3, 60086.3, 62533.9, 2034.69158618], [1728691200000, 62533.9, 63485.8, 62487.4, 63204.1, 1302.02116729], [1728777600000, 63204.1, 63287.9, 62054.8, 62872.3, 937.65536151], [1728864000000, 62872.4, 66525.5, 62465.5, 66087.0, 3301.71187381], [1728950400000, 66087.0, 67950.9, 64800.0, 67071.6, 3124.21397526], [1729036800000, 67071.7, 68418.8, 66751.5, 67618.2, 2457.97427062], [1729123200000, 67618.2, 67940.0, 66683.3, 67230.1, 757.66398617]]', name='ohlcv_tool', id='eb9b99f3-6765-45f3-91a4-b9383f8383e4', tool_call_id='call_rc0z4RaQOD6BOKNDQAarb8il'),\n",
       "  ToolMessage(content=\"Error: RatelimitException('https://duckduckgo.com/ 202 Ratelimit')\\n Please fix your mistakes.\", name='ddgs_tool', id='a9417804-eca6-4cc6-8009-96a93cc47ba2', tool_call_id='call_N4tTAuPTbTn29NVo0wsiAxrv'),\n",
       "  AIMessage(content=\"### Bitcoin's Market Data on October 2, 2023\\n\\nOn October 2, 2023, Bitcoin (BTC) experienced the following market activity:\\n\\n- **Opening Price**: $60,307.80\\n- **Highest Price**: $61,777.00\\n- **Lowest Price**: $59,187.40\\n- **Closing Price**: $61,753.50\\n- **Volume**: 3,378.91 BTC traded\\n\\nThe price movement reflects a relatively volatile day, with significant trading activity.\\n\\n### News Overview\\n\\nUnfortunately, I encountered a rate limit issue while trying to fetch the latest news related to Bitcoin on October 2, 2023. However, you can typically find market sentiment by checking popular financial news websites, cryptocurrency-specific news outlets, or platforms like Twitter and Reddit for real-time updates.\\n\\nIf you have any specific news sources in mind or if you would like me to try again later, please let me know!\", additional_kwargs={'refusal': None}, response_metadata={'token_usage': {'completion_tokens': 201, 'prompt_tokens': 1489, 'total_tokens': 1690, 'completion_tokens_details': {'audio_tokens': None, 'reasoning_tokens': 0}, 'prompt_tokens_details': {'audio_tokens': None, 'cached_tokens': 0}}, 'model_name': 'gpt-4o-mini-2024-07-18', 'system_fingerprint': 'fp_e2bde53e6e', 'finish_reason': 'stop', 'logprobs': None}, id='run-c03c71fb-6ada-4cc3-ab9c-36706aa2204c-0', usage_metadata={'input_tokens': 1489, 'output_tokens': 201, 'total_tokens': 1690, 'input_token_details': {'cache_read': 0}, 'output_token_details': {'reasoning': 0}})]}"
      ]
     },
     "execution_count": 18,
     "metadata": {},
     "output_type": "execute_result"
    }
   ],
   "source": [
    "app.invoke({\"messages\": [(\"human\", \"How is bitcoin's latest market data looking on 2nd October and How are the news supporting the data?\")]},config={\"configurable\": {\"thread_id\": 42}})"
   ]
  },
  {
   "cell_type": "code",
   "execution_count": null,
   "metadata": {},
   "outputs": [
    {
     "name": "stdout",
     "output_type": "stream",
     "text": [
      "================================\u001b[1m Human Message \u001b[0m=================================\n",
      "\n",
      "How is bitcoin's latest market data looking on 2nd October and How are the news supporting the data?\n",
      "==================================\u001b[1m Ai Message \u001b[0m==================================\n",
      "Tool Calls:\n",
      "  ohlcv_tool (call_utGZLe8ZXfuUixJkkTqYNdR4)\n",
      " Call ID: call_utGZLe8ZXfuUixJkkTqYNdR4\n",
      "  Args:\n",
      "    query: BTC\n",
      "  ddgs_tool (call_74fkbjJZCydq1wWxCDWbg0fv)\n",
      " Call ID: call_74fkbjJZCydq1wWxCDWbg0fv\n",
      "  Args:\n",
      "    query: bitcoin news October 2 2023\n",
      "=================================\u001b[1m Tool Message \u001b[0m=================================\n",
      "Name: ddgs_tool\n",
      "\n",
      "Error: RatelimitException('https://duckduckgo.com/ 202 Ratelimit')\n",
      " Please fix your mistakes.\n",
      "==================================\u001b[1m Ai Message \u001b[0m==================================\n",
      "\n",
      "### Bitcoin's Market Data on October 2, 2023\n",
      "\n",
      "On October 2, 2023, Bitcoin (BTC) experienced the following market activity:\n",
      "\n",
      "- **Opening Price**: $60,307.80\n",
      "- **Highest Price**: $61,777.00\n",
      "- **Lowest Price**: $59,187.40\n",
      "- **Closing Price**: $61,753.50\n",
      "- **Volume**: 3,378.91 BTC traded\n",
      "\n",
      "This data indicates a day of significant trading with a notable price range, reflecting volatility in the market.\n",
      "\n",
      "### News Overview\n",
      "\n",
      "Unfortunately, I encountered a rate limit issue while retrieving news related to Bitcoin on October 2, 2023. However, typically, you might look for news on popular financial news websites or cryptocurrency-specific outlets to see how the news supports the market data.\n",
      "\n",
      "If you have any specific news sources or topics you would like me to explore, please let me know!\n"
     ]
    }
   ],
   "source": [
    "for chunk in app.stream(\n",
    "    {\"messages\": [(\"human\", \"How is bitcoin's latest market data looking on 2nd October and How are the news supporting the data?\")]}, stream_mode=\"values\",\n",
    "    config={\"configurable\": {\"thread_id\": 1}}\n",
    "):\n",
    "    chunk[\"messages\"][-1].pretty_print()"
   ]
  },
  {
   "cell_type": "code",
   "execution_count": 12,
   "metadata": {},
   "outputs": [
    {
     "name": "stdout",
     "output_type": "stream",
     "text": [
      "Note: you may need to restart the kernel to use updated packages.\n"
     ]
    },
    {
     "name": "stderr",
     "output_type": "stream",
     "text": [
      "  WARNING: Failed to remove contents in a temporary directory 'C:\\Users\\utfu\\.virtualenvs\\CryptoTracker-hj7ikd92\\Lib\\site-packages\\~rimp'.\n",
      "  You can safely remove it manually.\n"
     ]
    }
   ],
   "source": [
    "%pip install --upgrade --quiet duckduckgo-search"
   ]
  }
 ],
 "metadata": {
  "colab": {
   "provenance": []
  },
  "kernelspec": {
   "display_name": "CryptoTracker-hj7ikd92",
   "language": "python",
   "name": "python3"
  },
  "language_info": {
   "codemirror_mode": {
    "name": "ipython",
    "version": 3
   },
   "file_extension": ".py",
   "mimetype": "text/x-python",
   "name": "python",
   "nbconvert_exporter": "python",
   "pygments_lexer": "ipython3",
   "version": "3.11.2"
  },
  "widgets": {
   "application/vnd.jupyter.widget-state+json": {
    "16d283ddf3554694aa3891bfd0cc1837": {
     "model_module": "@jupyter-widgets/controls",
     "model_module_version": "1.5.0",
     "model_name": "FloatProgressModel",
     "state": {
      "_dom_classes": [],
      "_model_module": "@jupyter-widgets/controls",
      "_model_module_version": "1.5.0",
      "_model_name": "FloatProgressModel",
      "_view_count": null,
      "_view_module": "@jupyter-widgets/controls",
      "_view_module_version": "1.5.0",
      "_view_name": "ProgressView",
      "bar_style": "success",
      "description": "",
      "description_tooltip": null,
      "layout": "IPY_MODEL_5aa3ff07ba014e678fc392eddd4ddd57",
      "max": 366,
      "min": 0,
      "orientation": "horizontal",
      "style": "IPY_MODEL_e15144c8de264b70988f12941908b729",
      "value": 366
     }
    },
    "1b3309c11a2844fb9f29a98e35186e17": {
     "model_module": "@jupyter-widgets/controls",
     "model_module_version": "1.5.0",
     "model_name": "HTMLModel",
     "state": {
      "_dom_classes": [],
      "_model_module": "@jupyter-widgets/controls",
      "_model_module_version": "1.5.0",
      "_model_name": "HTMLModel",
      "_view_count": null,
      "_view_module": "@jupyter-widgets/controls",
      "_view_module_version": "1.5.0",
      "_view_name": "HTMLView",
      "description": "",
      "description_tooltip": null,
      "layout": "IPY_MODEL_eb3efe552d3f45caa42736f4b5049434",
      "placeholder": "​",
      "style": "IPY_MODEL_22b08e991f47414abe055fc7819514e9",
      "value": " 438M/438M [00:20&lt;00:00, 21.3MB/s]"
     }
    },
    "22b08e991f47414abe055fc7819514e9": {
     "model_module": "@jupyter-widgets/controls",
     "model_module_version": "1.5.0",
     "model_name": "DescriptionStyleModel",
     "state": {
      "_model_module": "@jupyter-widgets/controls",
      "_model_module_version": "1.5.0",
      "_model_name": "DescriptionStyleModel",
      "_view_count": null,
      "_view_module": "@jupyter-widgets/base",
      "_view_module_version": "1.2.0",
      "_view_name": "StyleView",
      "description_width": ""
     }
    },
    "34168c3c7f704e3fa6220b11dce7e208": {
     "model_module": "@jupyter-widgets/controls",
     "model_module_version": "1.5.0",
     "model_name": "ProgressStyleModel",
     "state": {
      "_model_module": "@jupyter-widgets/controls",
      "_model_module_version": "1.5.0",
      "_model_name": "ProgressStyleModel",
      "_view_count": null,
      "_view_module": "@jupyter-widgets/base",
      "_view_module_version": "1.2.0",
      "_view_name": "StyleView",
      "bar_color": null,
      "description_width": ""
     }
    },
    "342e0815cf6c494d8c3b89482d0d9477": {
     "model_module": "@jupyter-widgets/controls",
     "model_module_version": "1.5.0",
     "model_name": "DescriptionStyleModel",
     "state": {
      "_model_module": "@jupyter-widgets/controls",
      "_model_module_version": "1.5.0",
      "_model_name": "DescriptionStyleModel",
      "_view_count": null,
      "_view_module": "@jupyter-widgets/base",
      "_view_module_version": "1.2.0",
      "_view_name": "StyleView",
      "description_width": ""
     }
    },
    "3464dc68f4af40869191a67a87ee804a": {
     "model_module": "@jupyter-widgets/base",
     "model_module_version": "1.2.0",
     "model_name": "LayoutModel",
     "state": {
      "_model_module": "@jupyter-widgets/base",
      "_model_module_version": "1.2.0",
      "_model_name": "LayoutModel",
      "_view_count": null,
      "_view_module": "@jupyter-widgets/base",
      "_view_module_version": "1.2.0",
      "_view_name": "LayoutView",
      "align_content": null,
      "align_items": null,
      "align_self": null,
      "border": null,
      "bottom": null,
      "display": null,
      "flex": null,
      "flex_flow": null,
      "grid_area": null,
      "grid_auto_columns": null,
      "grid_auto_flow": null,
      "grid_auto_rows": null,
      "grid_column": null,
      "grid_gap": null,
      "grid_row": null,
      "grid_template_areas": null,
      "grid_template_columns": null,
      "grid_template_rows": null,
      "height": null,
      "justify_content": null,
      "justify_items": null,
      "left": null,
      "margin": null,
      "max_height": null,
      "max_width": null,
      "min_height": null,
      "min_width": null,
      "object_fit": null,
      "object_position": null,
      "order": null,
      "overflow": null,
      "overflow_x": null,
      "overflow_y": null,
      "padding": null,
      "right": null,
      "top": null,
      "visibility": null,
      "width": null
     }
    },
    "37fef1abbba24b5c893359c93c4296ec": {
     "model_module": "@jupyter-widgets/base",
     "model_module_version": "1.2.0",
     "model_name": "LayoutModel",
     "state": {
      "_model_module": "@jupyter-widgets/base",
      "_model_module_version": "1.2.0",
      "_model_name": "LayoutModel",
      "_view_count": null,
      "_view_module": "@jupyter-widgets/base",
      "_view_module_version": "1.2.0",
      "_view_name": "LayoutView",
      "align_content": null,
      "align_items": null,
      "align_self": null,
      "border": null,
      "bottom": null,
      "display": null,
      "flex": null,
      "flex_flow": null,
      "grid_area": null,
      "grid_auto_columns": null,
      "grid_auto_flow": null,
      "grid_auto_rows": null,
      "grid_column": null,
      "grid_gap": null,
      "grid_row": null,
      "grid_template_areas": null,
      "grid_template_columns": null,
      "grid_template_rows": null,
      "height": null,
      "justify_content": null,
      "justify_items": null,
      "left": null,
      "margin": null,
      "max_height": null,
      "max_width": null,
      "min_height": null,
      "min_width": null,
      "object_fit": null,
      "object_position": null,
      "order": null,
      "overflow": null,
      "overflow_x": null,
      "overflow_y": null,
      "padding": null,
      "right": null,
      "top": null,
      "visibility": null,
      "width": null
     }
    },
    "3c0a1dfb7b204a33a24fc0c8b28ac561": {
     "model_module": "@jupyter-widgets/base",
     "model_module_version": "1.2.0",
     "model_name": "LayoutModel",
     "state": {
      "_model_module": "@jupyter-widgets/base",
      "_model_module_version": "1.2.0",
      "_model_name": "LayoutModel",
      "_view_count": null,
      "_view_module": "@jupyter-widgets/base",
      "_view_module_version": "1.2.0",
      "_view_name": "LayoutView",
      "align_content": null,
      "align_items": null,
      "align_self": null,
      "border": null,
      "bottom": null,
      "display": null,
      "flex": null,
      "flex_flow": null,
      "grid_area": null,
      "grid_auto_columns": null,
      "grid_auto_flow": null,
      "grid_auto_rows": null,
      "grid_column": null,
      "grid_gap": null,
      "grid_row": null,
      "grid_template_areas": null,
      "grid_template_columns": null,
      "grid_template_rows": null,
      "height": null,
      "justify_content": null,
      "justify_items": null,
      "left": null,
      "margin": null,
      "max_height": null,
      "max_width": null,
      "min_height": null,
      "min_width": null,
      "object_fit": null,
      "object_position": null,
      "order": null,
      "overflow": null,
      "overflow_x": null,
      "overflow_y": null,
      "padding": null,
      "right": null,
      "top": null,
      "visibility": null,
      "width": null
     }
    },
    "3f7cef6a7f114e7fbfba639b7074e07f": {
     "model_module": "@jupyter-widgets/controls",
     "model_module_version": "1.5.0",
     "model_name": "FloatProgressModel",
     "state": {
      "_dom_classes": [],
      "_model_module": "@jupyter-widgets/controls",
      "_model_module_version": "1.5.0",
      "_model_name": "FloatProgressModel",
      "_view_count": null,
      "_view_module": "@jupyter-widgets/controls",
      "_view_module_version": "1.5.0",
      "_view_name": "ProgressView",
      "bar_style": "success",
      "description": "",
      "description_tooltip": null,
      "layout": "IPY_MODEL_798a35fc45df447da35d079f3c95cf98",
      "max": 231508,
      "min": 0,
      "orientation": "horizontal",
      "style": "IPY_MODEL_bccf60221c4f4da2b117a17cba3a3e06",
      "value": 231508
     }
    },
    "4020fd2e41a6430b99a515deed52e300": {
     "model_module": "@jupyter-widgets/base",
     "model_module_version": "1.2.0",
     "model_name": "LayoutModel",
     "state": {
      "_model_module": "@jupyter-widgets/base",
      "_model_module_version": "1.2.0",
      "_model_name": "LayoutModel",
      "_view_count": null,
      "_view_module": "@jupyter-widgets/base",
      "_view_module_version": "1.2.0",
      "_view_name": "LayoutView",
      "align_content": null,
      "align_items": null,
      "align_self": null,
      "border": null,
      "bottom": null,
      "display": null,
      "flex": null,
      "flex_flow": null,
      "grid_area": null,
      "grid_auto_columns": null,
      "grid_auto_flow": null,
      "grid_auto_rows": null,
      "grid_column": null,
      "grid_gap": null,
      "grid_row": null,
      "grid_template_areas": null,
      "grid_template_columns": null,
      "grid_template_rows": null,
      "height": null,
      "justify_content": null,
      "justify_items": null,
      "left": null,
      "margin": null,
      "max_height": null,
      "max_width": null,
      "min_height": null,
      "min_width": null,
      "object_fit": null,
      "object_position": null,
      "order": null,
      "overflow": null,
      "overflow_x": null,
      "overflow_y": null,
      "padding": null,
      "right": null,
      "top": null,
      "visibility": null,
      "width": null
     }
    },
    "42fbf97aa7fd4925850616e4417bb3f9": {
     "model_module": "@jupyter-widgets/base",
     "model_module_version": "1.2.0",
     "model_name": "LayoutModel",
     "state": {
      "_model_module": "@jupyter-widgets/base",
      "_model_module_version": "1.2.0",
      "_model_name": "LayoutModel",
      "_view_count": null,
      "_view_module": "@jupyter-widgets/base",
      "_view_module_version": "1.2.0",
      "_view_name": "LayoutView",
      "align_content": null,
      "align_items": null,
      "align_self": null,
      "border": null,
      "bottom": null,
      "display": null,
      "flex": null,
      "flex_flow": null,
      "grid_area": null,
      "grid_auto_columns": null,
      "grid_auto_flow": null,
      "grid_auto_rows": null,
      "grid_column": null,
      "grid_gap": null,
      "grid_row": null,
      "grid_template_areas": null,
      "grid_template_columns": null,
      "grid_template_rows": null,
      "height": null,
      "justify_content": null,
      "justify_items": null,
      "left": null,
      "margin": null,
      "max_height": null,
      "max_width": null,
      "min_height": null,
      "min_width": null,
      "object_fit": null,
      "object_position": null,
      "order": null,
      "overflow": null,
      "overflow_x": null,
      "overflow_y": null,
      "padding": null,
      "right": null,
      "top": null,
      "visibility": null,
      "width": null
     }
    },
    "445b97ae1a0f4eaea923f1fc9d2c5674": {
     "model_module": "@jupyter-widgets/base",
     "model_module_version": "1.2.0",
     "model_name": "LayoutModel",
     "state": {
      "_model_module": "@jupyter-widgets/base",
      "_model_module_version": "1.2.0",
      "_model_name": "LayoutModel",
      "_view_count": null,
      "_view_module": "@jupyter-widgets/base",
      "_view_module_version": "1.2.0",
      "_view_name": "LayoutView",
      "align_content": null,
      "align_items": null,
      "align_self": null,
      "border": null,
      "bottom": null,
      "display": null,
      "flex": null,
      "flex_flow": null,
      "grid_area": null,
      "grid_auto_columns": null,
      "grid_auto_flow": null,
      "grid_auto_rows": null,
      "grid_column": null,
      "grid_gap": null,
      "grid_row": null,
      "grid_template_areas": null,
      "grid_template_columns": null,
      "grid_template_rows": null,
      "height": null,
      "justify_content": null,
      "justify_items": null,
      "left": null,
      "margin": null,
      "max_height": null,
      "max_width": null,
      "min_height": null,
      "min_width": null,
      "object_fit": null,
      "object_position": null,
      "order": null,
      "overflow": null,
      "overflow_x": null,
      "overflow_y": null,
      "padding": null,
      "right": null,
      "top": null,
      "visibility": null,
      "width": null
     }
    },
    "44b7a4343e7a42748bec6b985ebc6e95": {
     "model_module": "@jupyter-widgets/controls",
     "model_module_version": "1.5.0",
     "model_name": "HBoxModel",
     "state": {
      "_dom_classes": [],
      "_model_module": "@jupyter-widgets/controls",
      "_model_module_version": "1.5.0",
      "_model_name": "HBoxModel",
      "_view_count": null,
      "_view_module": "@jupyter-widgets/controls",
      "_view_module_version": "1.5.0",
      "_view_name": "HBoxView",
      "box_style": "",
      "children": [
       "IPY_MODEL_fd602b4095944b3eab11b651a6a2aa43",
       "IPY_MODEL_16d283ddf3554694aa3891bfd0cc1837",
       "IPY_MODEL_c31c04a3297440d781f8bcb528f0ccef"
      ],
      "layout": "IPY_MODEL_d48961671d1d4fd38fe5ea5a982a3689"
     }
    },
    "4f4edf677a3b4fe19e0ff9c365b2b6d6": {
     "model_module": "@jupyter-widgets/controls",
     "model_module_version": "1.5.0",
     "model_name": "DescriptionStyleModel",
     "state": {
      "_model_module": "@jupyter-widgets/controls",
      "_model_module_version": "1.5.0",
      "_model_name": "DescriptionStyleModel",
      "_view_count": null,
      "_view_module": "@jupyter-widgets/base",
      "_view_module_version": "1.2.0",
      "_view_name": "StyleView",
      "description_width": ""
     }
    },
    "521770f0f9c74728864d8a5b23736996": {
     "model_module": "@jupyter-widgets/controls",
     "model_module_version": "1.5.0",
     "model_name": "DescriptionStyleModel",
     "state": {
      "_model_module": "@jupyter-widgets/controls",
      "_model_module_version": "1.5.0",
      "_model_name": "DescriptionStyleModel",
      "_view_count": null,
      "_view_module": "@jupyter-widgets/base",
      "_view_module_version": "1.2.0",
      "_view_name": "StyleView",
      "description_width": ""
     }
    },
    "558c2b055a87420ebc7cf3150e039cb3": {
     "model_module": "@jupyter-widgets/controls",
     "model_module_version": "1.5.0",
     "model_name": "ProgressStyleModel",
     "state": {
      "_model_module": "@jupyter-widgets/controls",
      "_model_module_version": "1.5.0",
      "_model_name": "ProgressStyleModel",
      "_view_count": null,
      "_view_module": "@jupyter-widgets/base",
      "_view_module_version": "1.2.0",
      "_view_name": "StyleView",
      "bar_color": null,
      "description_width": ""
     }
    },
    "570bd0bb6eb5488e9dfeb76bd9b6441f": {
     "model_module": "@jupyter-widgets/controls",
     "model_module_version": "1.5.0",
     "model_name": "DescriptionStyleModel",
     "state": {
      "_model_module": "@jupyter-widgets/controls",
      "_model_module_version": "1.5.0",
      "_model_name": "DescriptionStyleModel",
      "_view_count": null,
      "_view_module": "@jupyter-widgets/base",
      "_view_module_version": "1.2.0",
      "_view_name": "StyleView",
      "description_width": ""
     }
    },
    "57d982506d9a40d2b38747dc899143f0": {
     "model_module": "@jupyter-widgets/base",
     "model_module_version": "1.2.0",
     "model_name": "LayoutModel",
     "state": {
      "_model_module": "@jupyter-widgets/base",
      "_model_module_version": "1.2.0",
      "_model_name": "LayoutModel",
      "_view_count": null,
      "_view_module": "@jupyter-widgets/base",
      "_view_module_version": "1.2.0",
      "_view_name": "LayoutView",
      "align_content": null,
      "align_items": null,
      "align_self": null,
      "border": null,
      "bottom": null,
      "display": null,
      "flex": null,
      "flex_flow": null,
      "grid_area": null,
      "grid_auto_columns": null,
      "grid_auto_flow": null,
      "grid_auto_rows": null,
      "grid_column": null,
      "grid_gap": null,
      "grid_row": null,
      "grid_template_areas": null,
      "grid_template_columns": null,
      "grid_template_rows": null,
      "height": null,
      "justify_content": null,
      "justify_items": null,
      "left": null,
      "margin": null,
      "max_height": null,
      "max_width": null,
      "min_height": null,
      "min_width": null,
      "object_fit": null,
      "object_position": null,
      "order": null,
      "overflow": null,
      "overflow_x": null,
      "overflow_y": null,
      "padding": null,
      "right": null,
      "top": null,
      "visibility": null,
      "width": null
     }
    },
    "5aa3ff07ba014e678fc392eddd4ddd57": {
     "model_module": "@jupyter-widgets/base",
     "model_module_version": "1.2.0",
     "model_name": "LayoutModel",
     "state": {
      "_model_module": "@jupyter-widgets/base",
      "_model_module_version": "1.2.0",
      "_model_name": "LayoutModel",
      "_view_count": null,
      "_view_module": "@jupyter-widgets/base",
      "_view_module_version": "1.2.0",
      "_view_name": "LayoutView",
      "align_content": null,
      "align_items": null,
      "align_self": null,
      "border": null,
      "bottom": null,
      "display": null,
      "flex": null,
      "flex_flow": null,
      "grid_area": null,
      "grid_auto_columns": null,
      "grid_auto_flow": null,
      "grid_auto_rows": null,
      "grid_column": null,
      "grid_gap": null,
      "grid_row": null,
      "grid_template_areas": null,
      "grid_template_columns": null,
      "grid_template_rows": null,
      "height": null,
      "justify_content": null,
      "justify_items": null,
      "left": null,
      "margin": null,
      "max_height": null,
      "max_width": null,
      "min_height": null,
      "min_width": null,
      "object_fit": null,
      "object_position": null,
      "order": null,
      "overflow": null,
      "overflow_x": null,
      "overflow_y": null,
      "padding": null,
      "right": null,
      "top": null,
      "visibility": null,
      "width": null
     }
    },
    "6811a29953cf4b19a832ccb5cff70267": {
     "model_module": "@jupyter-widgets/controls",
     "model_module_version": "1.5.0",
     "model_name": "HTMLModel",
     "state": {
      "_dom_classes": [],
      "_model_module": "@jupyter-widgets/controls",
      "_model_module_version": "1.5.0",
      "_model_name": "HTMLModel",
      "_view_count": null,
      "_view_module": "@jupyter-widgets/controls",
      "_view_module_version": "1.5.0",
      "_view_name": "HTMLView",
      "description": "",
      "description_tooltip": null,
      "layout": "IPY_MODEL_fe00c8b8a6fc40dcb21737fad5d48188",
      "placeholder": "​",
      "style": "IPY_MODEL_342e0815cf6c494d8c3b89482d0d9477",
      "value": "config.json: 100%"
     }
    },
    "6a5a69c122384281b8c0a5f183f50e18": {
     "model_module": "@jupyter-widgets/controls",
     "model_module_version": "1.5.0",
     "model_name": "HBoxModel",
     "state": {
      "_dom_classes": [],
      "_model_module": "@jupyter-widgets/controls",
      "_model_module_version": "1.5.0",
      "_model_name": "HBoxModel",
      "_view_count": null,
      "_view_module": "@jupyter-widgets/controls",
      "_view_module_version": "1.5.0",
      "_view_name": "HBoxView",
      "box_style": "",
      "children": [
       "IPY_MODEL_a9c7710a8ed549f98628bf2c284f2047",
       "IPY_MODEL_3f7cef6a7f114e7fbfba639b7074e07f",
       "IPY_MODEL_faa9379f2e4f4869887e50d8c9045406"
      ],
      "layout": "IPY_MODEL_aaf98e345fc04df59ff643c057be6bc0"
     }
    },
    "70dd0ff9b3d24966b2bb69e55a310533": {
     "model_module": "@jupyter-widgets/controls",
     "model_module_version": "1.5.0",
     "model_name": "HTMLModel",
     "state": {
      "_dom_classes": [],
      "_model_module": "@jupyter-widgets/controls",
      "_model_module_version": "1.5.0",
      "_model_name": "HTMLModel",
      "_view_count": null,
      "_view_module": "@jupyter-widgets/controls",
      "_view_module_version": "1.5.0",
      "_view_name": "HTMLView",
      "description": "",
      "description_tooltip": null,
      "layout": "IPY_MODEL_445b97ae1a0f4eaea923f1fc9d2c5674",
      "placeholder": "​",
      "style": "IPY_MODEL_c849f2a3173e4f69b15c8c2052ca4ad4",
      "value": " 125/125 [00:00&lt;00:00, 7.70kB/s]"
     }
    },
    "75d55e31199540cabc0cde3b5d84f4cf": {
     "model_module": "@jupyter-widgets/controls",
     "model_module_version": "1.5.0",
     "model_name": "HBoxModel",
     "state": {
      "_dom_classes": [],
      "_model_module": "@jupyter-widgets/controls",
      "_model_module_version": "1.5.0",
      "_model_name": "HBoxModel",
      "_view_count": null,
      "_view_module": "@jupyter-widgets/controls",
      "_view_module_version": "1.5.0",
      "_view_name": "HBoxView",
      "box_style": "",
      "children": [
       "IPY_MODEL_cd9c15d6f9ce41ae9f44c59b1d6c3777",
       "IPY_MODEL_7dd24b4be06941808ce68ab9b98d1f54",
       "IPY_MODEL_70dd0ff9b3d24966b2bb69e55a310533"
      ],
      "layout": "IPY_MODEL_3464dc68f4af40869191a67a87ee804a"
     }
    },
    "798a35fc45df447da35d079f3c95cf98": {
     "model_module": "@jupyter-widgets/base",
     "model_module_version": "1.2.0",
     "model_name": "LayoutModel",
     "state": {
      "_model_module": "@jupyter-widgets/base",
      "_model_module_version": "1.2.0",
      "_model_name": "LayoutModel",
      "_view_count": null,
      "_view_module": "@jupyter-widgets/base",
      "_view_module_version": "1.2.0",
      "_view_name": "LayoutView",
      "align_content": null,
      "align_items": null,
      "align_self": null,
      "border": null,
      "bottom": null,
      "display": null,
      "flex": null,
      "flex_flow": null,
      "grid_area": null,
      "grid_auto_columns": null,
      "grid_auto_flow": null,
      "grid_auto_rows": null,
      "grid_column": null,
      "grid_gap": null,
      "grid_row": null,
      "grid_template_areas": null,
      "grid_template_columns": null,
      "grid_template_rows": null,
      "height": null,
      "justify_content": null,
      "justify_items": null,
      "left": null,
      "margin": null,
      "max_height": null,
      "max_width": null,
      "min_height": null,
      "min_width": null,
      "object_fit": null,
      "object_position": null,
      "order": null,
      "overflow": null,
      "overflow_x": null,
      "overflow_y": null,
      "padding": null,
      "right": null,
      "top": null,
      "visibility": null,
      "width": null
     }
    },
    "7dd24b4be06941808ce68ab9b98d1f54": {
     "model_module": "@jupyter-widgets/controls",
     "model_module_version": "1.5.0",
     "model_name": "FloatProgressModel",
     "state": {
      "_dom_classes": [],
      "_model_module": "@jupyter-widgets/controls",
      "_model_module_version": "1.5.0",
      "_model_name": "FloatProgressModel",
      "_view_count": null,
      "_view_module": "@jupyter-widgets/controls",
      "_view_module_version": "1.5.0",
      "_view_name": "ProgressView",
      "bar_style": "success",
      "description": "",
      "description_tooltip": null,
      "layout": "IPY_MODEL_82b5c893b51444e1b4176d15709038c3",
      "max": 125,
      "min": 0,
      "orientation": "horizontal",
      "style": "IPY_MODEL_34168c3c7f704e3fa6220b11dce7e208",
      "value": 125
     }
    },
    "82b5c893b51444e1b4176d15709038c3": {
     "model_module": "@jupyter-widgets/base",
     "model_module_version": "1.2.0",
     "model_name": "LayoutModel",
     "state": {
      "_model_module": "@jupyter-widgets/base",
      "_model_module_version": "1.2.0",
      "_model_name": "LayoutModel",
      "_view_count": null,
      "_view_module": "@jupyter-widgets/base",
      "_view_module_version": "1.2.0",
      "_view_name": "LayoutView",
      "align_content": null,
      "align_items": null,
      "align_self": null,
      "border": null,
      "bottom": null,
      "display": null,
      "flex": null,
      "flex_flow": null,
      "grid_area": null,
      "grid_auto_columns": null,
      "grid_auto_flow": null,
      "grid_auto_rows": null,
      "grid_column": null,
      "grid_gap": null,
      "grid_row": null,
      "grid_template_areas": null,
      "grid_template_columns": null,
      "grid_template_rows": null,
      "height": null,
      "justify_content": null,
      "justify_items": null,
      "left": null,
      "margin": null,
      "max_height": null,
      "max_width": null,
      "min_height": null,
      "min_width": null,
      "object_fit": null,
      "object_position": null,
      "order": null,
      "overflow": null,
      "overflow_x": null,
      "overflow_y": null,
      "padding": null,
      "right": null,
      "top": null,
      "visibility": null,
      "width": null
     }
    },
    "8708934068064f639cf24b3ef98b5d2c": {
     "model_module": "@jupyter-widgets/controls",
     "model_module_version": "1.5.0",
     "model_name": "DescriptionStyleModel",
     "state": {
      "_model_module": "@jupyter-widgets/controls",
      "_model_module_version": "1.5.0",
      "_model_name": "DescriptionStyleModel",
      "_view_count": null,
      "_view_module": "@jupyter-widgets/base",
      "_view_module_version": "1.2.0",
      "_view_name": "StyleView",
      "description_width": ""
     }
    },
    "871b58e98ed243b0bc748e4e8b4b1cea": {
     "model_module": "@jupyter-widgets/controls",
     "model_module_version": "1.5.0",
     "model_name": "HBoxModel",
     "state": {
      "_dom_classes": [],
      "_model_module": "@jupyter-widgets/controls",
      "_model_module_version": "1.5.0",
      "_model_name": "HBoxModel",
      "_view_count": null,
      "_view_module": "@jupyter-widgets/controls",
      "_view_module_version": "1.5.0",
      "_view_name": "HBoxView",
      "box_style": "",
      "children": [
       "IPY_MODEL_ac4a0ead5c9947e19d94faa795fbaaeb",
       "IPY_MODEL_f15456705f824e998250f065e6be52dd",
       "IPY_MODEL_1b3309c11a2844fb9f29a98e35186e17"
      ],
      "layout": "IPY_MODEL_c409ff0266dd4dc2a7f26804ef0f92bc"
     }
    },
    "8c59be828458499ea69d14de3ece0a2e": {
     "model_module": "@jupyter-widgets/controls",
     "model_module_version": "1.5.0",
     "model_name": "DescriptionStyleModel",
     "state": {
      "_model_module": "@jupyter-widgets/controls",
      "_model_module_version": "1.5.0",
      "_model_name": "DescriptionStyleModel",
      "_view_count": null,
      "_view_module": "@jupyter-widgets/base",
      "_view_module_version": "1.2.0",
      "_view_name": "StyleView",
      "description_width": ""
     }
    },
    "95f9c244ad4b466ea909e9ad02ce77ec": {
     "model_module": "@jupyter-widgets/controls",
     "model_module_version": "1.5.0",
     "model_name": "FloatProgressModel",
     "state": {
      "_dom_classes": [],
      "_model_module": "@jupyter-widgets/controls",
      "_model_module_version": "1.5.0",
      "_model_name": "FloatProgressModel",
      "_view_count": null,
      "_view_module": "@jupyter-widgets/controls",
      "_view_module_version": "1.5.0",
      "_view_name": "ProgressView",
      "bar_style": "success",
      "description": "",
      "description_tooltip": null,
      "layout": "IPY_MODEL_eefd565dcdb84d1e8f3837bbb8590040",
      "max": 726,
      "min": 0,
      "orientation": "horizontal",
      "style": "IPY_MODEL_558c2b055a87420ebc7cf3150e039cb3",
      "value": 726
     }
    },
    "9c204a5c96ac4e8b8750ffbcdfaf7856": {
     "model_module": "@jupyter-widgets/controls",
     "model_module_version": "1.5.0",
     "model_name": "HBoxModel",
     "state": {
      "_dom_classes": [],
      "_model_module": "@jupyter-widgets/controls",
      "_model_module_version": "1.5.0",
      "_model_name": "HBoxModel",
      "_view_count": null,
      "_view_module": "@jupyter-widgets/controls",
      "_view_module_version": "1.5.0",
      "_view_name": "HBoxView",
      "box_style": "",
      "children": [
       "IPY_MODEL_6811a29953cf4b19a832ccb5cff70267",
       "IPY_MODEL_95f9c244ad4b466ea909e9ad02ce77ec",
       "IPY_MODEL_dda1fa3c974847718fcd155c70936713"
      ],
      "layout": "IPY_MODEL_f364773506eb4d3fbc8fd7b63c39797e"
     }
    },
    "a0836d0a2497441280763253711179d3": {
     "model_module": "@jupyter-widgets/base",
     "model_module_version": "1.2.0",
     "model_name": "LayoutModel",
     "state": {
      "_model_module": "@jupyter-widgets/base",
      "_model_module_version": "1.2.0",
      "_model_name": "LayoutModel",
      "_view_count": null,
      "_view_module": "@jupyter-widgets/base",
      "_view_module_version": "1.2.0",
      "_view_name": "LayoutView",
      "align_content": null,
      "align_items": null,
      "align_self": null,
      "border": null,
      "bottom": null,
      "display": null,
      "flex": null,
      "flex_flow": null,
      "grid_area": null,
      "grid_auto_columns": null,
      "grid_auto_flow": null,
      "grid_auto_rows": null,
      "grid_column": null,
      "grid_gap": null,
      "grid_row": null,
      "grid_template_areas": null,
      "grid_template_columns": null,
      "grid_template_rows": null,
      "height": null,
      "justify_content": null,
      "justify_items": null,
      "left": null,
      "margin": null,
      "max_height": null,
      "max_width": null,
      "min_height": null,
      "min_width": null,
      "object_fit": null,
      "object_position": null,
      "order": null,
      "overflow": null,
      "overflow_x": null,
      "overflow_y": null,
      "padding": null,
      "right": null,
      "top": null,
      "visibility": null,
      "width": null
     }
    },
    "a272bd79e53c49f59826004d0974530b": {
     "model_module": "@jupyter-widgets/base",
     "model_module_version": "1.2.0",
     "model_name": "LayoutModel",
     "state": {
      "_model_module": "@jupyter-widgets/base",
      "_model_module_version": "1.2.0",
      "_model_name": "LayoutModel",
      "_view_count": null,
      "_view_module": "@jupyter-widgets/base",
      "_view_module_version": "1.2.0",
      "_view_name": "LayoutView",
      "align_content": null,
      "align_items": null,
      "align_self": null,
      "border": null,
      "bottom": null,
      "display": null,
      "flex": null,
      "flex_flow": null,
      "grid_area": null,
      "grid_auto_columns": null,
      "grid_auto_flow": null,
      "grid_auto_rows": null,
      "grid_column": null,
      "grid_gap": null,
      "grid_row": null,
      "grid_template_areas": null,
      "grid_template_columns": null,
      "grid_template_rows": null,
      "height": null,
      "justify_content": null,
      "justify_items": null,
      "left": null,
      "margin": null,
      "max_height": null,
      "max_width": null,
      "min_height": null,
      "min_width": null,
      "object_fit": null,
      "object_position": null,
      "order": null,
      "overflow": null,
      "overflow_x": null,
      "overflow_y": null,
      "padding": null,
      "right": null,
      "top": null,
      "visibility": null,
      "width": null
     }
    },
    "a9c7710a8ed549f98628bf2c284f2047": {
     "model_module": "@jupyter-widgets/controls",
     "model_module_version": "1.5.0",
     "model_name": "HTMLModel",
     "state": {
      "_dom_classes": [],
      "_model_module": "@jupyter-widgets/controls",
      "_model_module_version": "1.5.0",
      "_model_name": "HTMLModel",
      "_view_count": null,
      "_view_module": "@jupyter-widgets/controls",
      "_view_module_version": "1.5.0",
      "_view_name": "HTMLView",
      "description": "",
      "description_tooltip": null,
      "layout": "IPY_MODEL_a0836d0a2497441280763253711179d3",
      "placeholder": "​",
      "style": "IPY_MODEL_bf7589646e1f45fdb79a093734c84569",
      "value": "vocab.txt: 100%"
     }
    },
    "aaf98e345fc04df59ff643c057be6bc0": {
     "model_module": "@jupyter-widgets/base",
     "model_module_version": "1.2.0",
     "model_name": "LayoutModel",
     "state": {
      "_model_module": "@jupyter-widgets/base",
      "_model_module_version": "1.2.0",
      "_model_name": "LayoutModel",
      "_view_count": null,
      "_view_module": "@jupyter-widgets/base",
      "_view_module_version": "1.2.0",
      "_view_name": "LayoutView",
      "align_content": null,
      "align_items": null,
      "align_self": null,
      "border": null,
      "bottom": null,
      "display": null,
      "flex": null,
      "flex_flow": null,
      "grid_area": null,
      "grid_auto_columns": null,
      "grid_auto_flow": null,
      "grid_auto_rows": null,
      "grid_column": null,
      "grid_gap": null,
      "grid_row": null,
      "grid_template_areas": null,
      "grid_template_columns": null,
      "grid_template_rows": null,
      "height": null,
      "justify_content": null,
      "justify_items": null,
      "left": null,
      "margin": null,
      "max_height": null,
      "max_width": null,
      "min_height": null,
      "min_width": null,
      "object_fit": null,
      "object_position": null,
      "order": null,
      "overflow": null,
      "overflow_x": null,
      "overflow_y": null,
      "padding": null,
      "right": null,
      "top": null,
      "visibility": null,
      "width": null
     }
    },
    "ac4a0ead5c9947e19d94faa795fbaaeb": {
     "model_module": "@jupyter-widgets/controls",
     "model_module_version": "1.5.0",
     "model_name": "HTMLModel",
     "state": {
      "_dom_classes": [],
      "_model_module": "@jupyter-widgets/controls",
      "_model_module_version": "1.5.0",
      "_model_name": "HTMLModel",
      "_view_count": null,
      "_view_module": "@jupyter-widgets/controls",
      "_view_module_version": "1.5.0",
      "_view_name": "HTMLView",
      "description": "",
      "description_tooltip": null,
      "layout": "IPY_MODEL_3c0a1dfb7b204a33a24fc0c8b28ac561",
      "placeholder": "​",
      "style": "IPY_MODEL_8c59be828458499ea69d14de3ece0a2e",
      "value": "model.safetensors: 100%"
     }
    },
    "bccf60221c4f4da2b117a17cba3a3e06": {
     "model_module": "@jupyter-widgets/controls",
     "model_module_version": "1.5.0",
     "model_name": "ProgressStyleModel",
     "state": {
      "_model_module": "@jupyter-widgets/controls",
      "_model_module_version": "1.5.0",
      "_model_name": "ProgressStyleModel",
      "_view_count": null,
      "_view_module": "@jupyter-widgets/base",
      "_view_module_version": "1.2.0",
      "_view_name": "StyleView",
      "bar_color": null,
      "description_width": ""
     }
    },
    "bf7589646e1f45fdb79a093734c84569": {
     "model_module": "@jupyter-widgets/controls",
     "model_module_version": "1.5.0",
     "model_name": "DescriptionStyleModel",
     "state": {
      "_model_module": "@jupyter-widgets/controls",
      "_model_module_version": "1.5.0",
      "_model_name": "DescriptionStyleModel",
      "_view_count": null,
      "_view_module": "@jupyter-widgets/base",
      "_view_module_version": "1.2.0",
      "_view_name": "StyleView",
      "description_width": ""
     }
    },
    "c31c04a3297440d781f8bcb528f0ccef": {
     "model_module": "@jupyter-widgets/controls",
     "model_module_version": "1.5.0",
     "model_name": "HTMLModel",
     "state": {
      "_dom_classes": [],
      "_model_module": "@jupyter-widgets/controls",
      "_model_module_version": "1.5.0",
      "_model_name": "HTMLModel",
      "_view_count": null,
      "_view_module": "@jupyter-widgets/controls",
      "_view_module_version": "1.5.0",
      "_view_name": "HTMLView",
      "description": "",
      "description_tooltip": null,
      "layout": "IPY_MODEL_4020fd2e41a6430b99a515deed52e300",
      "placeholder": "​",
      "style": "IPY_MODEL_4f4edf677a3b4fe19e0ff9c365b2b6d6",
      "value": " 366/366 [00:00&lt;00:00, 22.9kB/s]"
     }
    },
    "c409ff0266dd4dc2a7f26804ef0f92bc": {
     "model_module": "@jupyter-widgets/base",
     "model_module_version": "1.2.0",
     "model_name": "LayoutModel",
     "state": {
      "_model_module": "@jupyter-widgets/base",
      "_model_module_version": "1.2.0",
      "_model_name": "LayoutModel",
      "_view_count": null,
      "_view_module": "@jupyter-widgets/base",
      "_view_module_version": "1.2.0",
      "_view_name": "LayoutView",
      "align_content": null,
      "align_items": null,
      "align_self": null,
      "border": null,
      "bottom": null,
      "display": null,
      "flex": null,
      "flex_flow": null,
      "grid_area": null,
      "grid_auto_columns": null,
      "grid_auto_flow": null,
      "grid_auto_rows": null,
      "grid_column": null,
      "grid_gap": null,
      "grid_row": null,
      "grid_template_areas": null,
      "grid_template_columns": null,
      "grid_template_rows": null,
      "height": null,
      "justify_content": null,
      "justify_items": null,
      "left": null,
      "margin": null,
      "max_height": null,
      "max_width": null,
      "min_height": null,
      "min_width": null,
      "object_fit": null,
      "object_position": null,
      "order": null,
      "overflow": null,
      "overflow_x": null,
      "overflow_y": null,
      "padding": null,
      "right": null,
      "top": null,
      "visibility": null,
      "width": null
     }
    },
    "c849f2a3173e4f69b15c8c2052ca4ad4": {
     "model_module": "@jupyter-widgets/controls",
     "model_module_version": "1.5.0",
     "model_name": "DescriptionStyleModel",
     "state": {
      "_model_module": "@jupyter-widgets/controls",
      "_model_module_version": "1.5.0",
      "_model_name": "DescriptionStyleModel",
      "_view_count": null,
      "_view_module": "@jupyter-widgets/base",
      "_view_module_version": "1.2.0",
      "_view_name": "StyleView",
      "description_width": ""
     }
    },
    "cd9c15d6f9ce41ae9f44c59b1d6c3777": {
     "model_module": "@jupyter-widgets/controls",
     "model_module_version": "1.5.0",
     "model_name": "HTMLModel",
     "state": {
      "_dom_classes": [],
      "_model_module": "@jupyter-widgets/controls",
      "_model_module_version": "1.5.0",
      "_model_name": "HTMLModel",
      "_view_count": null,
      "_view_module": "@jupyter-widgets/controls",
      "_view_module_version": "1.5.0",
      "_view_name": "HTMLView",
      "description": "",
      "description_tooltip": null,
      "layout": "IPY_MODEL_42fbf97aa7fd4925850616e4417bb3f9",
      "placeholder": "​",
      "style": "IPY_MODEL_570bd0bb6eb5488e9dfeb76bd9b6441f",
      "value": "special_tokens_map.json: 100%"
     }
    },
    "d0acf15ad7a042e39cfa8736f6da9ae6": {
     "model_module": "@jupyter-widgets/base",
     "model_module_version": "1.2.0",
     "model_name": "LayoutModel",
     "state": {
      "_model_module": "@jupyter-widgets/base",
      "_model_module_version": "1.2.0",
      "_model_name": "LayoutModel",
      "_view_count": null,
      "_view_module": "@jupyter-widgets/base",
      "_view_module_version": "1.2.0",
      "_view_name": "LayoutView",
      "align_content": null,
      "align_items": null,
      "align_self": null,
      "border": null,
      "bottom": null,
      "display": null,
      "flex": null,
      "flex_flow": null,
      "grid_area": null,
      "grid_auto_columns": null,
      "grid_auto_flow": null,
      "grid_auto_rows": null,
      "grid_column": null,
      "grid_gap": null,
      "grid_row": null,
      "grid_template_areas": null,
      "grid_template_columns": null,
      "grid_template_rows": null,
      "height": null,
      "justify_content": null,
      "justify_items": null,
      "left": null,
      "margin": null,
      "max_height": null,
      "max_width": null,
      "min_height": null,
      "min_width": null,
      "object_fit": null,
      "object_position": null,
      "order": null,
      "overflow": null,
      "overflow_x": null,
      "overflow_y": null,
      "padding": null,
      "right": null,
      "top": null,
      "visibility": null,
      "width": null
     }
    },
    "d48961671d1d4fd38fe5ea5a982a3689": {
     "model_module": "@jupyter-widgets/base",
     "model_module_version": "1.2.0",
     "model_name": "LayoutModel",
     "state": {
      "_model_module": "@jupyter-widgets/base",
      "_model_module_version": "1.2.0",
      "_model_name": "LayoutModel",
      "_view_count": null,
      "_view_module": "@jupyter-widgets/base",
      "_view_module_version": "1.2.0",
      "_view_name": "LayoutView",
      "align_content": null,
      "align_items": null,
      "align_self": null,
      "border": null,
      "bottom": null,
      "display": null,
      "flex": null,
      "flex_flow": null,
      "grid_area": null,
      "grid_auto_columns": null,
      "grid_auto_flow": null,
      "grid_auto_rows": null,
      "grid_column": null,
      "grid_gap": null,
      "grid_row": null,
      "grid_template_areas": null,
      "grid_template_columns": null,
      "grid_template_rows": null,
      "height": null,
      "justify_content": null,
      "justify_items": null,
      "left": null,
      "margin": null,
      "max_height": null,
      "max_width": null,
      "min_height": null,
      "min_width": null,
      "object_fit": null,
      "object_position": null,
      "order": null,
      "overflow": null,
      "overflow_x": null,
      "overflow_y": null,
      "padding": null,
      "right": null,
      "top": null,
      "visibility": null,
      "width": null
     }
    },
    "dda1fa3c974847718fcd155c70936713": {
     "model_module": "@jupyter-widgets/controls",
     "model_module_version": "1.5.0",
     "model_name": "HTMLModel",
     "state": {
      "_dom_classes": [],
      "_model_module": "@jupyter-widgets/controls",
      "_model_module_version": "1.5.0",
      "_model_name": "HTMLModel",
      "_view_count": null,
      "_view_module": "@jupyter-widgets/controls",
      "_view_module_version": "1.5.0",
      "_view_name": "HTMLView",
      "description": "",
      "description_tooltip": null,
      "layout": "IPY_MODEL_37fef1abbba24b5c893359c93c4296ec",
      "placeholder": "​",
      "style": "IPY_MODEL_fe3d9d9ba577492e89d1a89da81b679a",
      "value": " 726/726 [00:00&lt;00:00, 32.7kB/s]"
     }
    },
    "e15144c8de264b70988f12941908b729": {
     "model_module": "@jupyter-widgets/controls",
     "model_module_version": "1.5.0",
     "model_name": "ProgressStyleModel",
     "state": {
      "_model_module": "@jupyter-widgets/controls",
      "_model_module_version": "1.5.0",
      "_model_name": "ProgressStyleModel",
      "_view_count": null,
      "_view_module": "@jupyter-widgets/base",
      "_view_module_version": "1.2.0",
      "_view_name": "StyleView",
      "bar_color": null,
      "description_width": ""
     }
    },
    "eb3efe552d3f45caa42736f4b5049434": {
     "model_module": "@jupyter-widgets/base",
     "model_module_version": "1.2.0",
     "model_name": "LayoutModel",
     "state": {
      "_model_module": "@jupyter-widgets/base",
      "_model_module_version": "1.2.0",
      "_model_name": "LayoutModel",
      "_view_count": null,
      "_view_module": "@jupyter-widgets/base",
      "_view_module_version": "1.2.0",
      "_view_name": "LayoutView",
      "align_content": null,
      "align_items": null,
      "align_self": null,
      "border": null,
      "bottom": null,
      "display": null,
      "flex": null,
      "flex_flow": null,
      "grid_area": null,
      "grid_auto_columns": null,
      "grid_auto_flow": null,
      "grid_auto_rows": null,
      "grid_column": null,
      "grid_gap": null,
      "grid_row": null,
      "grid_template_areas": null,
      "grid_template_columns": null,
      "grid_template_rows": null,
      "height": null,
      "justify_content": null,
      "justify_items": null,
      "left": null,
      "margin": null,
      "max_height": null,
      "max_width": null,
      "min_height": null,
      "min_width": null,
      "object_fit": null,
      "object_position": null,
      "order": null,
      "overflow": null,
      "overflow_x": null,
      "overflow_y": null,
      "padding": null,
      "right": null,
      "top": null,
      "visibility": null,
      "width": null
     }
    },
    "eefd565dcdb84d1e8f3837bbb8590040": {
     "model_module": "@jupyter-widgets/base",
     "model_module_version": "1.2.0",
     "model_name": "LayoutModel",
     "state": {
      "_model_module": "@jupyter-widgets/base",
      "_model_module_version": "1.2.0",
      "_model_name": "LayoutModel",
      "_view_count": null,
      "_view_module": "@jupyter-widgets/base",
      "_view_module_version": "1.2.0",
      "_view_name": "LayoutView",
      "align_content": null,
      "align_items": null,
      "align_self": null,
      "border": null,
      "bottom": null,
      "display": null,
      "flex": null,
      "flex_flow": null,
      "grid_area": null,
      "grid_auto_columns": null,
      "grid_auto_flow": null,
      "grid_auto_rows": null,
      "grid_column": null,
      "grid_gap": null,
      "grid_row": null,
      "grid_template_areas": null,
      "grid_template_columns": null,
      "grid_template_rows": null,
      "height": null,
      "justify_content": null,
      "justify_items": null,
      "left": null,
      "margin": null,
      "max_height": null,
      "max_width": null,
      "min_height": null,
      "min_width": null,
      "object_fit": null,
      "object_position": null,
      "order": null,
      "overflow": null,
      "overflow_x": null,
      "overflow_y": null,
      "padding": null,
      "right": null,
      "top": null,
      "visibility": null,
      "width": null
     }
    },
    "f15456705f824e998250f065e6be52dd": {
     "model_module": "@jupyter-widgets/controls",
     "model_module_version": "1.5.0",
     "model_name": "FloatProgressModel",
     "state": {
      "_dom_classes": [],
      "_model_module": "@jupyter-widgets/controls",
      "_model_module_version": "1.5.0",
      "_model_name": "FloatProgressModel",
      "_view_count": null,
      "_view_module": "@jupyter-widgets/controls",
      "_view_module_version": "1.5.0",
      "_view_name": "ProgressView",
      "bar_style": "success",
      "description": "",
      "description_tooltip": null,
      "layout": "IPY_MODEL_57d982506d9a40d2b38747dc899143f0",
      "max": 437962832,
      "min": 0,
      "orientation": "horizontal",
      "style": "IPY_MODEL_fd18a087f7a341daaa5c290b47776afb",
      "value": 437962832
     }
    },
    "f364773506eb4d3fbc8fd7b63c39797e": {
     "model_module": "@jupyter-widgets/base",
     "model_module_version": "1.2.0",
     "model_name": "LayoutModel",
     "state": {
      "_model_module": "@jupyter-widgets/base",
      "_model_module_version": "1.2.0",
      "_model_name": "LayoutModel",
      "_view_count": null,
      "_view_module": "@jupyter-widgets/base",
      "_view_module_version": "1.2.0",
      "_view_name": "LayoutView",
      "align_content": null,
      "align_items": null,
      "align_self": null,
      "border": null,
      "bottom": null,
      "display": null,
      "flex": null,
      "flex_flow": null,
      "grid_area": null,
      "grid_auto_columns": null,
      "grid_auto_flow": null,
      "grid_auto_rows": null,
      "grid_column": null,
      "grid_gap": null,
      "grid_row": null,
      "grid_template_areas": null,
      "grid_template_columns": null,
      "grid_template_rows": null,
      "height": null,
      "justify_content": null,
      "justify_items": null,
      "left": null,
      "margin": null,
      "max_height": null,
      "max_width": null,
      "min_height": null,
      "min_width": null,
      "object_fit": null,
      "object_position": null,
      "order": null,
      "overflow": null,
      "overflow_x": null,
      "overflow_y": null,
      "padding": null,
      "right": null,
      "top": null,
      "visibility": null,
      "width": null
     }
    },
    "faa9379f2e4f4869887e50d8c9045406": {
     "model_module": "@jupyter-widgets/controls",
     "model_module_version": "1.5.0",
     "model_name": "HTMLModel",
     "state": {
      "_dom_classes": [],
      "_model_module": "@jupyter-widgets/controls",
      "_model_module_version": "1.5.0",
      "_model_name": "HTMLModel",
      "_view_count": null,
      "_view_module": "@jupyter-widgets/controls",
      "_view_module_version": "1.5.0",
      "_view_name": "HTMLView",
      "description": "",
      "description_tooltip": null,
      "layout": "IPY_MODEL_a272bd79e53c49f59826004d0974530b",
      "placeholder": "​",
      "style": "IPY_MODEL_521770f0f9c74728864d8a5b23736996",
      "value": " 232k/232k [00:00&lt;00:00, 9.80MB/s]"
     }
    },
    "fd18a087f7a341daaa5c290b47776afb": {
     "model_module": "@jupyter-widgets/controls",
     "model_module_version": "1.5.0",
     "model_name": "ProgressStyleModel",
     "state": {
      "_model_module": "@jupyter-widgets/controls",
      "_model_module_version": "1.5.0",
      "_model_name": "ProgressStyleModel",
      "_view_count": null,
      "_view_module": "@jupyter-widgets/base",
      "_view_module_version": "1.2.0",
      "_view_name": "StyleView",
      "bar_color": null,
      "description_width": ""
     }
    },
    "fd602b4095944b3eab11b651a6a2aa43": {
     "model_module": "@jupyter-widgets/controls",
     "model_module_version": "1.5.0",
     "model_name": "HTMLModel",
     "state": {
      "_dom_classes": [],
      "_model_module": "@jupyter-widgets/controls",
      "_model_module_version": "1.5.0",
      "_model_name": "HTMLModel",
      "_view_count": null,
      "_view_module": "@jupyter-widgets/controls",
      "_view_module_version": "1.5.0",
      "_view_name": "HTMLView",
      "description": "",
      "description_tooltip": null,
      "layout": "IPY_MODEL_d0acf15ad7a042e39cfa8736f6da9ae6",
      "placeholder": "​",
      "style": "IPY_MODEL_8708934068064f639cf24b3ef98b5d2c",
      "value": "tokenizer_config.json: 100%"
     }
    },
    "fe00c8b8a6fc40dcb21737fad5d48188": {
     "model_module": "@jupyter-widgets/base",
     "model_module_version": "1.2.0",
     "model_name": "LayoutModel",
     "state": {
      "_model_module": "@jupyter-widgets/base",
      "_model_module_version": "1.2.0",
      "_model_name": "LayoutModel",
      "_view_count": null,
      "_view_module": "@jupyter-widgets/base",
      "_view_module_version": "1.2.0",
      "_view_name": "LayoutView",
      "align_content": null,
      "align_items": null,
      "align_self": null,
      "border": null,
      "bottom": null,
      "display": null,
      "flex": null,
      "flex_flow": null,
      "grid_area": null,
      "grid_auto_columns": null,
      "grid_auto_flow": null,
      "grid_auto_rows": null,
      "grid_column": null,
      "grid_gap": null,
      "grid_row": null,
      "grid_template_areas": null,
      "grid_template_columns": null,
      "grid_template_rows": null,
      "height": null,
      "justify_content": null,
      "justify_items": null,
      "left": null,
      "margin": null,
      "max_height": null,
      "max_width": null,
      "min_height": null,
      "min_width": null,
      "object_fit": null,
      "object_position": null,
      "order": null,
      "overflow": null,
      "overflow_x": null,
      "overflow_y": null,
      "padding": null,
      "right": null,
      "top": null,
      "visibility": null,
      "width": null
     }
    },
    "fe3d9d9ba577492e89d1a89da81b679a": {
     "model_module": "@jupyter-widgets/controls",
     "model_module_version": "1.5.0",
     "model_name": "DescriptionStyleModel",
     "state": {
      "_model_module": "@jupyter-widgets/controls",
      "_model_module_version": "1.5.0",
      "_model_name": "DescriptionStyleModel",
      "_view_count": null,
      "_view_module": "@jupyter-widgets/base",
      "_view_module_version": "1.2.0",
      "_view_name": "StyleView",
      "description_width": ""
     }
    }
   }
  }
 },
 "nbformat": 4,
 "nbformat_minor": 0
}
